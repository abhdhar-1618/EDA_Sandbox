{
 "cells": [
  {
   "cell_type": "markdown",
   "id": "6db8e5d6",
   "metadata": {},
   "source": [
    "# Resources\n",
    "## Instructor Name:- Mark Keith\n",
    "## Resource Link:- [Youtube](https://www.youtube.com/watch?v=78ut-S-QOEQ&list=PLe9UEU4oeAuV7RtCbL76hca5ELO_IELk4)\n",
    "\n"
   ]
  },
  {
   "cell_type": "markdown",
   "id": "826cd853",
   "metadata": {},
   "source": [
    "### Part 1: Univariate Analysis"
   ]
  },
  {
   "cell_type": "code",
   "execution_count": 1,
   "id": "06f527f3",
   "metadata": {},
   "outputs": [
    {
     "data": {
      "text/html": [
       "<div>\n",
       "<style scoped>\n",
       "    .dataframe tbody tr th:only-of-type {\n",
       "        vertical-align: middle;\n",
       "    }\n",
       "\n",
       "    .dataframe tbody tr th {\n",
       "        vertical-align: top;\n",
       "    }\n",
       "\n",
       "    .dataframe thead th {\n",
       "        text-align: right;\n",
       "    }\n",
       "</style>\n",
       "<table border=\"1\" class=\"dataframe\">\n",
       "  <thead>\n",
       "    <tr style=\"text-align: right;\">\n",
       "      <th></th>\n",
       "      <th>age</th>\n",
       "      <th>sex</th>\n",
       "      <th>bmi</th>\n",
       "      <th>children</th>\n",
       "      <th>smoker</th>\n",
       "      <th>region</th>\n",
       "      <th>charges</th>\n",
       "    </tr>\n",
       "  </thead>\n",
       "  <tbody>\n",
       "    <tr>\n",
       "      <th>0</th>\n",
       "      <td>19</td>\n",
       "      <td>female</td>\n",
       "      <td>27.900</td>\n",
       "      <td>0</td>\n",
       "      <td>yes</td>\n",
       "      <td>southwest</td>\n",
       "      <td>16884.92400</td>\n",
       "    </tr>\n",
       "    <tr>\n",
       "      <th>1</th>\n",
       "      <td>18</td>\n",
       "      <td>male</td>\n",
       "      <td>33.770</td>\n",
       "      <td>1</td>\n",
       "      <td>no</td>\n",
       "      <td>southeast</td>\n",
       "      <td>1725.55230</td>\n",
       "    </tr>\n",
       "    <tr>\n",
       "      <th>2</th>\n",
       "      <td>28</td>\n",
       "      <td>male</td>\n",
       "      <td>33.000</td>\n",
       "      <td>3</td>\n",
       "      <td>no</td>\n",
       "      <td>southeast</td>\n",
       "      <td>4449.46200</td>\n",
       "    </tr>\n",
       "    <tr>\n",
       "      <th>3</th>\n",
       "      <td>33</td>\n",
       "      <td>male</td>\n",
       "      <td>22.705</td>\n",
       "      <td>0</td>\n",
       "      <td>no</td>\n",
       "      <td>northwest</td>\n",
       "      <td>21984.47061</td>\n",
       "    </tr>\n",
       "    <tr>\n",
       "      <th>4</th>\n",
       "      <td>32</td>\n",
       "      <td>male</td>\n",
       "      <td>28.880</td>\n",
       "      <td>0</td>\n",
       "      <td>no</td>\n",
       "      <td>northwest</td>\n",
       "      <td>3866.85520</td>\n",
       "    </tr>\n",
       "  </tbody>\n",
       "</table>\n",
       "</div>"
      ],
      "text/plain": [
       "   age     sex     bmi  children smoker     region      charges\n",
       "0   19  female  27.900         0    yes  southwest  16884.92400\n",
       "1   18    male  33.770         1     no  southeast   1725.55230\n",
       "2   28    male  33.000         3     no  southeast   4449.46200\n",
       "3   33    male  22.705         0     no  northwest  21984.47061\n",
       "4   32    male  28.880         0     no  northwest   3866.85520"
      ]
     },
     "execution_count": 1,
     "metadata": {},
     "output_type": "execute_result"
    }
   ],
   "source": [
    "import pandas as pd\n",
    "df = pd.read_csv('insurance.csv')\n",
    "df.head()"
   ]
  },
  {
   "cell_type": "code",
   "execution_count": 2,
   "id": "3512572a",
   "metadata": {},
   "outputs": [
    {
     "data": {
      "text/html": [
       "<div>\n",
       "<style scoped>\n",
       "    .dataframe tbody tr th:only-of-type {\n",
       "        vertical-align: middle;\n",
       "    }\n",
       "\n",
       "    .dataframe tbody tr th {\n",
       "        vertical-align: top;\n",
       "    }\n",
       "\n",
       "    .dataframe thead th {\n",
       "        text-align: right;\n",
       "    }\n",
       "</style>\n",
       "<table border=\"1\" class=\"dataframe\">\n",
       "  <thead>\n",
       "    <tr style=\"text-align: right;\">\n",
       "      <th></th>\n",
       "      <th>age</th>\n",
       "      <th>bmi</th>\n",
       "      <th>children</th>\n",
       "      <th>charges</th>\n",
       "    </tr>\n",
       "  </thead>\n",
       "  <tbody>\n",
       "    <tr>\n",
       "      <th>count</th>\n",
       "      <td>1338.000000</td>\n",
       "      <td>1338.000000</td>\n",
       "      <td>1338.000000</td>\n",
       "      <td>1338.000000</td>\n",
       "    </tr>\n",
       "    <tr>\n",
       "      <th>mean</th>\n",
       "      <td>39.207025</td>\n",
       "      <td>30.663397</td>\n",
       "      <td>1.094918</td>\n",
       "      <td>13270.422265</td>\n",
       "    </tr>\n",
       "    <tr>\n",
       "      <th>std</th>\n",
       "      <td>14.049960</td>\n",
       "      <td>6.098187</td>\n",
       "      <td>1.205493</td>\n",
       "      <td>12110.011237</td>\n",
       "    </tr>\n",
       "    <tr>\n",
       "      <th>min</th>\n",
       "      <td>18.000000</td>\n",
       "      <td>15.960000</td>\n",
       "      <td>0.000000</td>\n",
       "      <td>1121.873900</td>\n",
       "    </tr>\n",
       "    <tr>\n",
       "      <th>25%</th>\n",
       "      <td>27.000000</td>\n",
       "      <td>26.296250</td>\n",
       "      <td>0.000000</td>\n",
       "      <td>4740.287150</td>\n",
       "    </tr>\n",
       "    <tr>\n",
       "      <th>50%</th>\n",
       "      <td>39.000000</td>\n",
       "      <td>30.400000</td>\n",
       "      <td>1.000000</td>\n",
       "      <td>9382.033000</td>\n",
       "    </tr>\n",
       "    <tr>\n",
       "      <th>75%</th>\n",
       "      <td>51.000000</td>\n",
       "      <td>34.693750</td>\n",
       "      <td>2.000000</td>\n",
       "      <td>16639.912515</td>\n",
       "    </tr>\n",
       "    <tr>\n",
       "      <th>max</th>\n",
       "      <td>64.000000</td>\n",
       "      <td>53.130000</td>\n",
       "      <td>5.000000</td>\n",
       "      <td>63770.428010</td>\n",
       "    </tr>\n",
       "  </tbody>\n",
       "</table>\n",
       "</div>"
      ],
      "text/plain": [
       "               age          bmi     children       charges\n",
       "count  1338.000000  1338.000000  1338.000000   1338.000000\n",
       "mean     39.207025    30.663397     1.094918  13270.422265\n",
       "std      14.049960     6.098187     1.205493  12110.011237\n",
       "min      18.000000    15.960000     0.000000   1121.873900\n",
       "25%      27.000000    26.296250     0.000000   4740.287150\n",
       "50%      39.000000    30.400000     1.000000   9382.033000\n",
       "75%      51.000000    34.693750     2.000000  16639.912515\n",
       "max      64.000000    53.130000     5.000000  63770.428010"
      ]
     },
     "execution_count": 2,
     "metadata": {},
     "output_type": "execute_result"
    }
   ],
   "source": [
    "df.describe()"
   ]
  },
  {
   "cell_type": "code",
   "execution_count": 3,
   "id": "25fdc80d",
   "metadata": {},
   "outputs": [
    {
     "data": {
      "text/plain": [
       "(1338, 7)"
      ]
     },
     "execution_count": 3,
     "metadata": {},
     "output_type": "execute_result"
    }
   ],
   "source": [
    "df.shape"
   ]
  },
  {
   "cell_type": "code",
   "execution_count": 8,
   "id": "3252f008",
   "metadata": {},
   "outputs": [
    {
     "data": {
      "text/plain": [
       "Index(['age', 'sex', 'bmi', 'children', 'smoker', 'region', 'charges'], dtype='object')"
      ]
     },
     "execution_count": 8,
     "metadata": {},
     "output_type": "execute_result"
    }
   ],
   "source": [
    "df.columns"
   ]
  },
  {
   "cell_type": "code",
   "execution_count": 5,
   "id": "ce4fd22a",
   "metadata": {},
   "outputs": [
    {
     "data": {
      "text/plain": [
       "1338"
      ]
     },
     "execution_count": 5,
     "metadata": {},
     "output_type": "execute_result"
    }
   ],
   "source": [
    "df.age.count()"
   ]
  },
  {
   "cell_type": "code",
   "execution_count": 6,
   "id": "d71799cf",
   "metadata": {},
   "outputs": [
    {
     "name": "stdout",
     "output_type": "stream",
     "text": [
      "age: 1338\n"
     ]
    }
   ],
   "source": [
    "print(f'age: {df.age.count()}')"
   ]
  },
  {
   "cell_type": "code",
   "execution_count": 9,
   "id": "93b87eb1",
   "metadata": {},
   "outputs": [
    {
     "name": "stdout",
     "output_type": "stream",
     "text": [
      "age: 1338\n",
      "sex: 1338\n",
      "bmi: 1338\n",
      "children: 1338\n",
      "smoker: 1338\n",
      "region: 1338\n",
      "charges: 1338\n"
     ]
    }
   ],
   "source": [
    "print(f'age: {df.age.count()}')\n",
    "print(f'sex: {df.sex.count()}')\n",
    "print(f'bmi: {df.bmi.count()}')\n",
    "print(f'children: {df.children.count()}')\n",
    "print(f'smoker: {df.smoker.count()}')\n",
    "print(f'region: {df.region.count()}')\n",
    "print(f'charges: {df.charges.count()}')"
   ]
  },
  {
   "cell_type": "code",
   "execution_count": 10,
   "id": "908ec993",
   "metadata": {},
   "outputs": [
    {
     "name": "stdout",
     "output_type": "stream",
     "text": [
      "age: 47\n",
      "sex: 2\n",
      "bmi: 548\n",
      "children: 6\n",
      "smoker: 2\n",
      "region: 4\n",
      "charges: 1337\n"
     ]
    }
   ],
   "source": [
    "print(f'age: {df.age.nunique()}')\n",
    "print(f'sex: {df.sex.nunique()}')\n",
    "print(f'bmi: {df.bmi.nunique()}')\n",
    "print(f'children: {df.children.nunique()}')\n",
    "print(f'smoker: {df.smoker.nunique()}')\n",
    "print(f'region: {df.region.nunique()}')\n",
    "print(f'charges: {df.charges.nunique()}')"
   ]
  },
  {
   "cell_type": "code",
   "execution_count": 11,
   "id": "5577bd9e",
   "metadata": {},
   "outputs": [
    {
     "name": "stdout",
     "output_type": "stream",
     "text": [
      "age: int64\n",
      "sex: object\n",
      "bmi: float64\n",
      "children: int64\n",
      "smoker: object\n",
      "region: object\n",
      "charges: float64\n"
     ]
    }
   ],
   "source": [
    "print(f'age: {df.age.dtype}')\n",
    "print(f'sex: {df.sex.dtype}')\n",
    "print(f'bmi: {df.bmi.dtype}')\n",
    "print(f'children: {df.children.dtype}')\n",
    "print(f'smoker: {df.smoker.dtype}')\n",
    "print(f'region: {df.region.dtype}')\n",
    "print(f'charges: {df.charges.dtype}')"
   ]
  },
  {
   "cell_type": "code",
   "execution_count": 12,
   "id": "fbcdaf06",
   "metadata": {},
   "outputs": [
    {
     "name": "stdout",
     "output_type": "stream",
     "text": [
      "age: True\n",
      "sex: False\n",
      "bmi: True\n",
      "children: True\n",
      "smoker: False\n",
      "region: False\n",
      "charges: True\n"
     ]
    }
   ],
   "source": [
    "print(f'age: {pd.api.types.is_numeric_dtype(df.age)}')\n",
    "print(f'sex: {pd.api.types.is_numeric_dtype(df.sex)}')\n",
    "print(f'bmi: {pd.api.types.is_numeric_dtype(df.bmi)}')\n",
    "print(f'children: {pd.api.types.is_numeric_dtype(df.children)}')\n",
    "print(f'smoker: {pd.api.types.is_numeric_dtype(df.smoker)}')\n",
    "print(f'region: {pd.api.types.is_numeric_dtype(df.region)}')\n",
    "print(f'charges: {pd.api.types.is_numeric_dtype(df.charges)}')"
   ]
  },
  {
   "cell_type": "code",
   "execution_count": 14,
   "id": "89358c89",
   "metadata": {},
   "outputs": [],
   "source": [
    "import numpy as np"
   ]
  },
  {
   "cell_type": "code",
   "execution_count": 28,
   "id": "9b7d9416",
   "metadata": {},
   "outputs": [
    {
     "name": "stdout",
     "output_type": "stream",
     "text": [
      "count: 1338\n",
      "min: 1121.8739\n",
      "max: 63770.42801\n",
      "quantile .25: 4740.28715\n",
      "quantile .50 (median): 9382.033\n",
      "quantile .75: 16639.912515\n",
      "mean: 13270.422265141257\n",
      "median: 9382.033\n",
      "mode: 0    1639.5631\n",
      "Name: charges, dtype: float64\n"
     ]
    }
   ],
   "source": [
    "print(f'count: {df.charges.count()}')\n",
    "print(f'min: {df.charges.min()}')\n",
    "print(f'max: {df.charges.max()}')\n",
    "print(f'quantile .25: {df[\"charges\"].quantile(0.25)}')\n",
    "print(f'quantile .50 (median): {df[\"charges\"].quantile(0.50)}')\n",
    "print(f'quantile .75: {df[\"charges\"].quantile(0.75)}')\n",
    "print(f'mean: {df.charges.mean()}')\n",
    "print(f'median: {df.charges.median()}')\n",
    "print(f'mode: {df.charges.mode()}')\n"
   ]
  },
  {
   "cell_type": "code",
   "execution_count": 30,
   "id": "4a59861f",
   "metadata": {},
   "outputs": [
    {
     "data": {
      "text/plain": [
       "12110.011236693994"
      ]
     },
     "execution_count": 30,
     "metadata": {},
     "output_type": "execute_result"
    }
   ],
   "source": [
    "df.charges.std()"
   ]
  },
  {
   "cell_type": "code",
   "execution_count": 31,
   "id": "b7b78d2e",
   "metadata": {},
   "outputs": [
    {
     "data": {
      "text/plain": [
       "12105.484975561605"
      ]
     },
     "execution_count": 31,
     "metadata": {},
     "output_type": "execute_result"
    }
   ],
   "source": [
    "np.std(df.charges)"
   ]
  },
  {
   "cell_type": "code",
   "execution_count": 32,
   "id": "b74e2cd6",
   "metadata": {},
   "outputs": [
    {
     "data": {
      "text/plain": [
       "12110.011236693994"
      ]
     },
     "execution_count": 32,
     "metadata": {},
     "output_type": "execute_result"
    }
   ],
   "source": [
    "np.std(df.charges, ddof=1)"
   ]
  },
  {
   "cell_type": "code",
   "execution_count": 33,
   "id": "4a65927e",
   "metadata": {},
   "outputs": [
    {
     "name": "stdout",
     "output_type": "stream",
     "text": [
      "1.5158796580240383\n",
      "1.6062986532967916\n"
     ]
    }
   ],
   "source": [
    "from scipy.stats import kurtosis, skew\n",
    "print(skew(df.charges, bias=False))\n",
    "print(kurtosis(df.charges, bias=False))"
   ]
  },
  {
   "cell_type": "markdown",
   "id": "cf5f4d15",
   "metadata": {},
   "source": [
    "### Part 2: Bivariate Analysis"
   ]
  }
 ],
 "metadata": {
  "kernelspec": {
   "display_name": "Python 3 (ipykernel)",
   "language": "python",
   "name": "python3"
  },
  "language_info": {
   "codemirror_mode": {
    "name": "ipython",
    "version": 3
   },
   "file_extension": ".py",
   "mimetype": "text/x-python",
   "name": "python",
   "nbconvert_exporter": "python",
   "pygments_lexer": "ipython3",
   "version": "3.11.4"
  },
  "varInspector": {
   "cols": {
    "lenName": 16,
    "lenType": 16,
    "lenVar": 40
   },
   "kernels_config": {
    "python": {
     "delete_cmd_postfix": "",
     "delete_cmd_prefix": "del ",
     "library": "var_list.py",
     "varRefreshCmd": "print(var_dic_list())"
    },
    "r": {
     "delete_cmd_postfix": ") ",
     "delete_cmd_prefix": "rm(",
     "library": "var_list.r",
     "varRefreshCmd": "cat(var_dic_list()) "
    }
   },
   "types_to_exclude": [
    "module",
    "function",
    "builtin_function_or_method",
    "instance",
    "_Feature"
   ],
   "window_display": false
  }
 },
 "nbformat": 4,
 "nbformat_minor": 5
}
