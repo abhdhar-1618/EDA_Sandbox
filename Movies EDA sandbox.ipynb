{
 "cells": [
  {
   "cell_type": "code",
   "execution_count": 20,
   "id": "195fcb04",
   "metadata": {},
   "outputs": [],
   "source": [
    "import numpy as np # linear algebra\n",
    "import pandas as pd # data manipulation and analysis\n",
    "import matplotlib.pyplot as plt # data visualization\n",
    "import seaborn as sns # data visualization\n",
    "sns.set_style('whitegrid') # set style for visualization\n",
    "import warnings # ignore warnings\n",
    "warnings.filterwarnings('ignore')\n",
    "import ipywidgets as widgets\n",
    "from IPython.display import display\n",
    "from ipywidgets import interact, widgets"
   ]
  },
  {
   "cell_type": "code",
   "execution_count": 21,
   "id": "14af0ad7",
   "metadata": {},
   "outputs": [],
   "source": [
    "df = pd.read_csv('hollywood_movies_dataset.csv',encoding='iso-8859-1')\n",
    "# all the encoding types for csv files [UTF-8: 'utf-8'],[UTF-16: 'utf-16'],[ISO-8859-1 (Latin-1): 'iso-8859-1'],[Windows-1252: 'windows-1252']\t[ASCII: 'ascii'],[CP1251 (Windows Cyrillic): 'cp1251'],[CP1252 (Windows Western European): 'cp1252'],[CP437 (DOS Latin US): 'cp437']"
   ]
  },
  {
   "cell_type": "code",
   "execution_count": 22,
   "id": "c9199ddc",
   "metadata": {},
   "outputs": [
    {
     "data": {
      "text/html": [
       "<div>\n",
       "<style scoped>\n",
       "    .dataframe tbody tr th:only-of-type {\n",
       "        vertical-align: middle;\n",
       "    }\n",
       "\n",
       "    .dataframe tbody tr th {\n",
       "        vertical-align: top;\n",
       "    }\n",
       "\n",
       "    .dataframe thead th {\n",
       "        text-align: right;\n",
       "    }\n",
       "</style>\n",
       "<table border=\"1\" class=\"dataframe\">\n",
       "  <thead>\n",
       "    <tr style=\"text-align: right;\">\n",
       "      <th></th>\n",
       "      <th>Movie</th>\n",
       "      <th>Year</th>\n",
       "      <th>Genres</th>\n",
       "      <th>Certification/Rating</th>\n",
       "      <th>IMDb ID</th>\n",
       "      <th>Writer</th>\n",
       "      <th>Director</th>\n",
       "      <th>Actors</th>\n",
       "      <th>Plot</th>\n",
       "      <th>Country</th>\n",
       "      <th>IMDB Ratings</th>\n",
       "      <th>Notes</th>\n",
       "    </tr>\n",
       "  </thead>\n",
       "  <tbody>\n",
       "    <tr>\n",
       "      <th>0</th>\n",
       "      <td>300</td>\n",
       "      <td>2006</td>\n",
       "      <td>Action, Drama</td>\n",
       "      <td>R</td>\n",
       "      <td>tt0416449</td>\n",
       "      <td>Zack Snyder</td>\n",
       "      <td>Zack Snyder</td>\n",
       "      <td>Gerard Butler, Lena Headey, David Wenham</td>\n",
       "      <td>King Leonidas of Sparta and a force of 300 men...</td>\n",
       "      <td>United States, Canada, Bulgaria</td>\n",
       "      <td>7.6</td>\n",
       "      <td>NaN</td>\n",
       "    </tr>\n",
       "    <tr>\n",
       "      <th>1</th>\n",
       "      <td>1408</td>\n",
       "      <td>2007</td>\n",
       "      <td>Fantasy, Horror, Mystery</td>\n",
       "      <td>PG-13</td>\n",
       "      <td>tt0450385</td>\n",
       "      <td>Matt Greenberg</td>\n",
       "      <td>Mikael HÃ¥fstrÃ¶m</td>\n",
       "      <td>John Cusack, Samuel L. Jackson, Mary McCormack</td>\n",
       "      <td>A man who specialises in debunking paranormal ...</td>\n",
       "      <td>United States</td>\n",
       "      <td>6.8</td>\n",
       "      <td>NaN</td>\n",
       "    </tr>\n",
       "    <tr>\n",
       "      <th>2</th>\n",
       "      <td>2012</td>\n",
       "      <td>2009</td>\n",
       "      <td>Action, Adventure, Sci-Fi</td>\n",
       "      <td>PG-13</td>\n",
       "      <td>tt1190080</td>\n",
       "      <td>Roland Emmerich</td>\n",
       "      <td>Roland Emmerich</td>\n",
       "      <td>John Cusack, Thandiwe Newton, Chiwetel Ejiofor</td>\n",
       "      <td>A frustrated writer struggles to keep his fami...</td>\n",
       "      <td>United States</td>\n",
       "      <td>5.8</td>\n",
       "      <td>NaN</td>\n",
       "    </tr>\n",
       "    <tr>\n",
       "      <th>3</th>\n",
       "      <td>12 Angry Men</td>\n",
       "      <td>1957</td>\n",
       "      <td>Crime, Drama</td>\n",
       "      <td>Approved</td>\n",
       "      <td>tt0050083</td>\n",
       "      <td>Reginald Rose</td>\n",
       "      <td>Sidney Lumet</td>\n",
       "      <td>Henry Fonda, Lee J. Cobb, Martin Balsam</td>\n",
       "      <td>The jury in a New York City murder trial is fr...</td>\n",
       "      <td>United States</td>\n",
       "      <td>9.0</td>\n",
       "      <td>NaN</td>\n",
       "    </tr>\n",
       "    <tr>\n",
       "      <th>4</th>\n",
       "      <td>12 Strong</td>\n",
       "      <td>2018</td>\n",
       "      <td>Action, Drama, History</td>\n",
       "      <td>R</td>\n",
       "      <td>tt1413492</td>\n",
       "      <td>Ted Tally</td>\n",
       "      <td>Nicolai Fuglsig</td>\n",
       "      <td>Chris Hemsworth, Michael Shannon, Michael PeÃ±a</td>\n",
       "      <td>12 Strong tells the story of the first Special...</td>\n",
       "      <td>United States</td>\n",
       "      <td>6.5</td>\n",
       "      <td>NaN</td>\n",
       "    </tr>\n",
       "  </tbody>\n",
       "</table>\n",
       "</div>"
      ],
      "text/plain": [
       "          Movie  Year                     Genres Certification/Rating  \\\n",
       "0           300  2006              Action, Drama                    R   \n",
       "1          1408  2007   Fantasy, Horror, Mystery                PG-13   \n",
       "2          2012  2009  Action, Adventure, Sci-Fi                PG-13   \n",
       "3  12 Angry Men  1957               Crime, Drama             Approved   \n",
       "4     12 Strong  2018     Action, Drama, History                    R   \n",
       "\n",
       "     IMDb ID           Writer           Director  \\\n",
       "0  tt0416449      Zack Snyder        Zack Snyder   \n",
       "1  tt0450385   Matt Greenberg  Mikael HÃ¥fstrÃ¶m   \n",
       "2  tt1190080  Roland Emmerich    Roland Emmerich   \n",
       "3  tt0050083    Reginald Rose       Sidney Lumet   \n",
       "4  tt1413492        Ted Tally    Nicolai Fuglsig   \n",
       "\n",
       "                                            Actors  \\\n",
       "0         Gerard Butler, Lena Headey, David Wenham   \n",
       "1   John Cusack, Samuel L. Jackson, Mary McCormack   \n",
       "2   John Cusack, Thandiwe Newton, Chiwetel Ejiofor   \n",
       "3          Henry Fonda, Lee J. Cobb, Martin Balsam   \n",
       "4  Chris Hemsworth, Michael Shannon, Michael PeÃ±a   \n",
       "\n",
       "                                                Plot  \\\n",
       "0  King Leonidas of Sparta and a force of 300 men...   \n",
       "1  A man who specialises in debunking paranormal ...   \n",
       "2  A frustrated writer struggles to keep his fami...   \n",
       "3  The jury in a New York City murder trial is fr...   \n",
       "4  12 Strong tells the story of the first Special...   \n",
       "\n",
       "                           Country  IMDB Ratings Notes  \n",
       "0  United States, Canada, Bulgaria           7.6   NaN  \n",
       "1                    United States           6.8   NaN  \n",
       "2                    United States           5.8   NaN  \n",
       "3                    United States           9.0   NaN  \n",
       "4                    United States           6.5   NaN  "
      ]
     },
     "execution_count": 22,
     "metadata": {},
     "output_type": "execute_result"
    }
   ],
   "source": [
    "df.head()"
   ]
  },
  {
   "cell_type": "code",
   "execution_count": 23,
   "id": "56b3f97b",
   "metadata": {},
   "outputs": [
    {
     "name": "stdout",
     "output_type": "stream",
     "text": [
      "<class 'pandas.core.frame.DataFrame'>\n",
      "RangeIndex: 738 entries, 0 to 737\n",
      "Data columns (total 12 columns):\n",
      " #   Column                Non-Null Count  Dtype  \n",
      "---  ------                --------------  -----  \n",
      " 0   Movie                 738 non-null    object \n",
      " 1   Year                  738 non-null    int64  \n",
      " 2   Genres                738 non-null    object \n",
      " 3   Certification/Rating  699 non-null    object \n",
      " 4   IMDb ID               738 non-null    object \n",
      " 5   Writer                735 non-null    object \n",
      " 6   Director              736 non-null    object \n",
      " 7   Actors                738 non-null    object \n",
      " 8   Plot                  738 non-null    object \n",
      " 9   Country               738 non-null    object \n",
      " 10  IMDB Ratings          738 non-null    float64\n",
      " 11  Notes                 19 non-null     object \n",
      "dtypes: float64(1), int64(1), object(10)\n",
      "memory usage: 69.3+ KB\n"
     ]
    }
   ],
   "source": [
    "df.info()"
   ]
  },
  {
   "cell_type": "code",
   "execution_count": 24,
   "id": "18893e3a",
   "metadata": {},
   "outputs": [
    {
     "name": "stdout",
     "output_type": "stream",
     "text": [
      "(738, 12)\n"
     ]
    }
   ],
   "source": [
    "df_shape = df.shape\n",
    "print(df_shape)"
   ]
  },
  {
   "cell_type": "code",
   "execution_count": 25,
   "id": "865678bf",
   "metadata": {},
   "outputs": [
    {
     "data": {
      "text/plain": [
       "Index(['Movie', 'Year', 'Genres', 'Certification/Rating', 'IMDb ID', 'Writer',\n",
       "       'Director', 'Actors', 'Plot', 'Country', 'IMDB Ratings', 'Notes'],\n",
       "      dtype='object')"
      ]
     },
     "execution_count": 25,
     "metadata": {},
     "output_type": "execute_result"
    }
   ],
   "source": [
    "df.columns"
   ]
  },
  {
   "cell_type": "code",
   "execution_count": 26,
   "id": "a46783f9",
   "metadata": {},
   "outputs": [
    {
     "data": {
      "text/html": [
       "<div>\n",
       "<style scoped>\n",
       "    .dataframe tbody tr th:only-of-type {\n",
       "        vertical-align: middle;\n",
       "    }\n",
       "\n",
       "    .dataframe tbody tr th {\n",
       "        vertical-align: top;\n",
       "    }\n",
       "\n",
       "    .dataframe thead th {\n",
       "        text-align: right;\n",
       "    }\n",
       "</style>\n",
       "<table border=\"1\" class=\"dataframe\">\n",
       "  <thead>\n",
       "    <tr style=\"text-align: right;\">\n",
       "      <th></th>\n",
       "      <th>Year</th>\n",
       "      <th>IMDB Ratings</th>\n",
       "    </tr>\n",
       "  </thead>\n",
       "  <tbody>\n",
       "    <tr>\n",
       "      <th>count</th>\n",
       "      <td>738.000000</td>\n",
       "      <td>738.000000</td>\n",
       "    </tr>\n",
       "    <tr>\n",
       "      <th>mean</th>\n",
       "      <td>2006.313008</td>\n",
       "      <td>6.598916</td>\n",
       "    </tr>\n",
       "    <tr>\n",
       "      <th>std</th>\n",
       "      <td>12.486666</td>\n",
       "      <td>1.061539</td>\n",
       "    </tr>\n",
       "    <tr>\n",
       "      <th>min</th>\n",
       "      <td>1946.000000</td>\n",
       "      <td>2.200000</td>\n",
       "    </tr>\n",
       "    <tr>\n",
       "      <th>25%</th>\n",
       "      <td>2000.000000</td>\n",
       "      <td>6.000000</td>\n",
       "    </tr>\n",
       "    <tr>\n",
       "      <th>50%</th>\n",
       "      <td>2010.000000</td>\n",
       "      <td>6.700000</td>\n",
       "    </tr>\n",
       "    <tr>\n",
       "      <th>75%</th>\n",
       "      <td>2015.000000</td>\n",
       "      <td>7.300000</td>\n",
       "    </tr>\n",
       "    <tr>\n",
       "      <th>max</th>\n",
       "      <td>2023.000000</td>\n",
       "      <td>9.300000</td>\n",
       "    </tr>\n",
       "  </tbody>\n",
       "</table>\n",
       "</div>"
      ],
      "text/plain": [
       "              Year  IMDB Ratings\n",
       "count   738.000000    738.000000\n",
       "mean   2006.313008      6.598916\n",
       "std      12.486666      1.061539\n",
       "min    1946.000000      2.200000\n",
       "25%    2000.000000      6.000000\n",
       "50%    2010.000000      6.700000\n",
       "75%    2015.000000      7.300000\n",
       "max    2023.000000      9.300000"
      ]
     },
     "execution_count": 26,
     "metadata": {},
     "output_type": "execute_result"
    }
   ],
   "source": [
    "df.describe()"
   ]
  },
  {
   "cell_type": "code",
   "execution_count": 27,
   "id": "c1e4779b",
   "metadata": {},
   "outputs": [
    {
     "data": {
      "text/html": [
       "<div>\n",
       "<style scoped>\n",
       "    .dataframe tbody tr th:only-of-type {\n",
       "        vertical-align: middle;\n",
       "    }\n",
       "\n",
       "    .dataframe tbody tr th {\n",
       "        vertical-align: top;\n",
       "    }\n",
       "\n",
       "    .dataframe thead th {\n",
       "        text-align: right;\n",
       "    }\n",
       "</style>\n",
       "<table border=\"1\" class=\"dataframe\">\n",
       "  <thead>\n",
       "    <tr style=\"text-align: right;\">\n",
       "      <th></th>\n",
       "      <th>Movie</th>\n",
       "      <th>Genres</th>\n",
       "      <th>Certification/Rating</th>\n",
       "      <th>IMDb ID</th>\n",
       "      <th>Writer</th>\n",
       "      <th>Director</th>\n",
       "      <th>Actors</th>\n",
       "      <th>Plot</th>\n",
       "      <th>Country</th>\n",
       "      <th>Notes</th>\n",
       "    </tr>\n",
       "  </thead>\n",
       "  <tbody>\n",
       "    <tr>\n",
       "      <th>count</th>\n",
       "      <td>738</td>\n",
       "      <td>738</td>\n",
       "      <td>699</td>\n",
       "      <td>738</td>\n",
       "      <td>735</td>\n",
       "      <td>736</td>\n",
       "      <td>738</td>\n",
       "      <td>738</td>\n",
       "      <td>738</td>\n",
       "      <td>19</td>\n",
       "    </tr>\n",
       "    <tr>\n",
       "      <th>unique</th>\n",
       "      <td>735</td>\n",
       "      <td>150</td>\n",
       "      <td>14</td>\n",
       "      <td>736</td>\n",
       "      <td>566</td>\n",
       "      <td>485</td>\n",
       "      <td>719</td>\n",
       "      <td>736</td>\n",
       "      <td>228</td>\n",
       "      <td>5</td>\n",
       "    </tr>\n",
       "    <tr>\n",
       "      <th>top</th>\n",
       "      <td>Straw Dogs</td>\n",
       "      <td>Drama, Romance</td>\n",
       "      <td>R</td>\n",
       "      <td>tt1905041</td>\n",
       "      <td>Richard Maibaum</td>\n",
       "      <td>Steven Spielberg</td>\n",
       "      <td>Vin Diesel, Paul Walker, Dwayne Johnson</td>\n",
       "      <td>Hobbs has Dominic and Brian reassemble their c...</td>\n",
       "      <td>United States</td>\n",
       "      <td>OK</td>\n",
       "    </tr>\n",
       "    <tr>\n",
       "      <th>freq</th>\n",
       "      <td>2</td>\n",
       "      <td>75</td>\n",
       "      <td>287</td>\n",
       "      <td>3</td>\n",
       "      <td>9</td>\n",
       "      <td>12</td>\n",
       "      <td>5</td>\n",
       "      <td>3</td>\n",
       "      <td>275</td>\n",
       "      <td>10</td>\n",
       "    </tr>\n",
       "  </tbody>\n",
       "</table>\n",
       "</div>"
      ],
      "text/plain": [
       "             Movie          Genres Certification/Rating    IMDb ID  \\\n",
       "count          738             738                  699        738   \n",
       "unique         735             150                   14        736   \n",
       "top     Straw Dogs  Drama, Romance                    R  tt1905041   \n",
       "freq             2              75                  287          3   \n",
       "\n",
       "                 Writer          Director  \\\n",
       "count               735               736   \n",
       "unique              566               485   \n",
       "top     Richard Maibaum  Steven Spielberg   \n",
       "freq                  9                12   \n",
       "\n",
       "                                         Actors  \\\n",
       "count                                       738   \n",
       "unique                                      719   \n",
       "top     Vin Diesel, Paul Walker, Dwayne Johnson   \n",
       "freq                                          5   \n",
       "\n",
       "                                                     Plot        Country Notes  \n",
       "count                                                 738            738    19  \n",
       "unique                                                736            228     5  \n",
       "top     Hobbs has Dominic and Brian reassemble their c...  United States    OK  \n",
       "freq                                                    3            275    10  "
      ]
     },
     "execution_count": 27,
     "metadata": {},
     "output_type": "execute_result"
    }
   ],
   "source": [
    "df.describe(include='O')"
   ]
  },
  {
   "cell_type": "code",
   "execution_count": 9,
   "id": "cb847fb7",
   "metadata": {},
   "outputs": [],
   "source": [
    "#list(df.Director.unique())"
   ]
  },
  {
   "cell_type": "code",
   "execution_count": 13,
   "id": "26d76fe7",
   "metadata": {},
   "outputs": [
    {
     "data": {
      "application/vnd.jupyter.widget-view+json": {
       "model_id": "fe31da3886084eedaae464f538b3455c",
       "version_major": 2,
       "version_minor": 0
      },
      "text/plain": [
       "interactive(children=(Dropdown(description='Actor', layout=Layout(height='auto'), options=('All', 'Gerard Butl…"
      ]
     },
     "metadata": {},
     "output_type": "display_data"
    },
    {
     "data": {
      "text/plain": [
       "<function __main__.<lambda>(Actor)>"
      ]
     },
     "execution_count": 13,
     "metadata": {},
     "output_type": "execute_result"
    }
   ],
   "source": [
    "from ipywidgets import interact, widgets\n",
    "import pandas as pd\n",
    "\n",
    "# Load the CSV data\n",
    "df = pd.read_csv('hollywood_movies_dataset.csv',encoding='iso-8859-1')\n",
    "\n",
    "# Create an interactive dropdown for actors\n",
    "from ipywidgets import interact, widgets, Layout; interact(lambda Actor: display(df[df.iloc[:, 7].str.contains(Actor)] if Actor != 'All' else df), Actor=widgets.Dropdown(options=['All'] + list(df.iloc[:, 7].str.split(', ').explode().unique()), layout=Layout(height='auto')))\n",
    "# Code for an interactive dropdown for ratings\n",
    "#from ipywidgets import interact, widgets, Layout; interact(lambda Certification_Rating: display(df[df.iloc[:, 3].str.contains(Certification_Rating, na=False)] if Certification_Rating != 'All' else df), Certification_Rating=widgets.Dropdown(options=['All'] + list(df.iloc[:, 3].str.split(', ').explode().unique()), layout=Layout(height='auto')))\n",
    "# Code for an interactive dropdown for Country\n",
    "#from ipywidgets import interact, widgets, Layout; interact(lambda Country: display(df[df.iloc[:, 9].str.contains(Country)] if Country != 'All' else df), Country=widgets.Dropdown(options=['All'] + list(df.iloc[:, 9].str.split(', ').explode().unique()), layout=Layout(height='auto')))\n",
    "# Code for an interactive dropdown for Writer\n",
    "#from ipywidgets import interact, widgets, Layout; interact(lambda Writer: display(df[df.iloc[:, 5].str.contains(Writer, na=False)] if Writer != 'All' else df), Writer=widgets.Dropdown(options=['All'] + list(df.iloc[:, 5].str.split(', ').explode().unique()), layout=Layout(height='auto')))\n"
   ]
  },
  {
   "cell_type": "markdown",
   "id": "e08eddfd",
   "metadata": {},
   "source": [
    "## creating a unique list of director dropdowns and corresponding details"
   ]
  },
  {
   "cell_type": "code",
   "execution_count": 14,
   "id": "a0b3af5d",
   "metadata": {},
   "outputs": [
    {
     "data": {
      "application/vnd.jupyter.widget-view+json": {
       "model_id": "094c75898c294315af41c8fdb18da287",
       "version_major": 2,
       "version_minor": 0
      },
      "text/plain": [
       "interactive(children=(Dropdown(description='Director', layout=Layout(height='auto'), options=('All', 'Zack Sny…"
      ]
     },
     "metadata": {},
     "output_type": "display_data"
    },
    {
     "data": {
      "text/plain": [
       "<function __main__.filter_director(Director)>"
      ]
     },
     "execution_count": 14,
     "metadata": {},
     "output_type": "execute_result"
    }
   ],
   "source": [
    "from ipywidgets import interact, widgets, Layout\n",
    "\n",
    "# Create a list of unique director names\n",
    "director_names = df.iloc[:, 6].str.split(', ').explode().unique()\n",
    "\n",
    "# Create a function to filter and display data based on the selected director\n",
    "def filter_director(Director):\n",
    "    if Director == 'All':\n",
    "        display(df)\n",
    "    else:\n",
    "        display(df[df.iloc[:, 6].str.contains(Director, na=False)])\n",
    "\n",
    "# Create the interactive dropdown\n",
    "interact(\n",
    "    filter_director,\n",
    "    Director=widgets.Dropdown(options=['All'] + list(director_names), layout=Layout(height='auto'))\n",
    ")"
   ]
  },
  {
   "cell_type": "markdown",
   "id": "fc399c8a",
   "metadata": {},
   "source": [
    "## creating a unique list of Genres dropdowns and corresponding details\n"
   ]
  },
  {
   "cell_type": "code",
   "execution_count": 15,
   "id": "0dcc99fc",
   "metadata": {},
   "outputs": [
    {
     "data": {
      "application/vnd.jupyter.widget-view+json": {
       "model_id": "ab4ec221a1dd417bb33d4f6ee396b3e6",
       "version_major": 2,
       "version_minor": 0
      },
      "text/plain": [
       "interactive(children=(Dropdown(description='Genres', layout=Layout(height='auto'), options=('All', 'Action', '…"
      ]
     },
     "metadata": {},
     "output_type": "display_data"
    },
    {
     "data": {
      "text/plain": [
       "<function __main__.export_filtered_data(Genres)>"
      ]
     },
     "execution_count": 15,
     "metadata": {},
     "output_type": "execute_result"
    }
   ],
   "source": [
    "from ipywidgets import interact, widgets, Layout\n",
    "import pandas as pd\n",
    "\n",
    "# Create a list of unique Genres\n",
    "unique_genres = df.iloc[:, 2].str.split(', ').explode().unique()\n",
    "\n",
    "# Create a function to filter and export data based on the selected Genres\n",
    "def export_filtered_data(Genres):\n",
    "    if Genres == 'All':\n",
    "        filtered_df = df\n",
    "    else:\n",
    "        filtered_df = df[df.iloc[:, 2].str.contains(Genres, na=False)]\n",
    "\n",
    "    # Export filtered data to a CSV file\n",
    "    filtered_df.to_csv('filtered_data.csv', index=False)\n",
    "\n",
    "    # Display a link to download the CSV file\n",
    "    display(widgets.HTML(f'<a href=\"filtered_data.csv\" download>Click here to download filtered data</a>'))\n",
    "\n",
    "# Create the interactive dropdown\n",
    "interact(\n",
    "    export_filtered_data,\n",
    "    Genres=widgets.Dropdown(options=['All'] + list(unique_genres), layout=Layout(height='auto'))\n",
    ")"
   ]
  },
  {
   "cell_type": "code",
   "execution_count": 16,
   "id": "c8f1a4c7",
   "metadata": {
    "scrolled": true
   },
   "outputs": [
    {
     "data": {
      "application/vnd.jupyter.widget-view+json": {
       "model_id": "9eac9cea31f94c3abefdb07af867073d",
       "version_major": 2,
       "version_minor": 0
      },
      "text/plain": [
       "interactive(children=(Dropdown(description='Director', options=('All', 'Zack Snyder', 'Mikael HÃ¥fstrÃ¶m', 'Ro…"
      ]
     },
     "metadata": {},
     "output_type": "display_data"
    },
    {
     "data": {
      "text/plain": [
       "<function __main__.<lambda>(Director)>"
      ]
     },
     "execution_count": 16,
     "metadata": {},
     "output_type": "execute_result"
    }
   ],
   "source": [
    "interact(lambda Director: print(df.iloc[:, 6].unique()) if Director == 'All' else print(Director), Director=widgets.Dropdown(options=['All'] + list(df.iloc[:, 6].unique())))"
   ]
  },
  {
   "cell_type": "code",
   "execution_count": 28,
   "id": "d2b46490",
   "metadata": {
    "scrolled": true
   },
   "outputs": [
    {
     "data": {
      "text/plain": [
       "Movie                     0\n",
       "Year                      0\n",
       "Genres                    0\n",
       "Certification/Rating     39\n",
       "IMDb ID                   0\n",
       "Writer                    3\n",
       "Director                  2\n",
       "Actors                    0\n",
       "Plot                      0\n",
       "Country                   0\n",
       "IMDB Ratings              0\n",
       "Notes                   719\n",
       "dtype: int64"
      ]
     },
     "execution_count": 28,
     "metadata": {},
     "output_type": "execute_result"
    }
   ],
   "source": [
    "df.isnull().sum()"
   ]
  },
  {
   "cell_type": "code",
   "execution_count": 29,
   "id": "4b46362a",
   "metadata": {},
   "outputs": [
    {
     "data": {
      "text/html": [
       "<div>\n",
       "<style scoped>\n",
       "    .dataframe tbody tr th:only-of-type {\n",
       "        vertical-align: middle;\n",
       "    }\n",
       "\n",
       "    .dataframe tbody tr th {\n",
       "        vertical-align: top;\n",
       "    }\n",
       "\n",
       "    .dataframe thead th {\n",
       "        text-align: right;\n",
       "    }\n",
       "</style>\n",
       "<table border=\"1\" class=\"dataframe\">\n",
       "  <thead>\n",
       "    <tr style=\"text-align: right;\">\n",
       "      <th></th>\n",
       "      <th>Movie</th>\n",
       "      <th>Year</th>\n",
       "      <th>Genres</th>\n",
       "      <th>Certification/Rating</th>\n",
       "      <th>IMDb ID</th>\n",
       "      <th>Writer</th>\n",
       "      <th>Director</th>\n",
       "      <th>Actors</th>\n",
       "      <th>Plot</th>\n",
       "      <th>Country</th>\n",
       "      <th>IMDB Ratings</th>\n",
       "      <th>Notes</th>\n",
       "    </tr>\n",
       "  </thead>\n",
       "  <tbody>\n",
       "  </tbody>\n",
       "</table>\n",
       "</div>"
      ],
      "text/plain": [
       "Empty DataFrame\n",
       "Columns: [Movie, Year, Genres, Certification/Rating, IMDb ID, Writer, Director, Actors, Plot, Country, IMDB Ratings, Notes]\n",
       "Index: []"
      ]
     },
     "execution_count": 29,
     "metadata": {},
     "output_type": "execute_result"
    }
   ],
   "source": [
    "df[df.duplicated(keep='first')]"
   ]
  },
  {
   "cell_type": "code",
   "execution_count": 30,
   "id": "7b31db88",
   "metadata": {},
   "outputs": [
    {
     "data": {
      "text/plain": [
       "Index(['Movie', 'Year', 'Genres', 'Certification/Rating', 'IMDb ID', 'Writer',\n",
       "       'Director', 'Actors', 'Plot', 'Country', 'IMDB Ratings', 'Notes'],\n",
       "      dtype='object')"
      ]
     },
     "execution_count": 30,
     "metadata": {},
     "output_type": "execute_result"
    }
   ],
   "source": [
    "df.columns"
   ]
  },
  {
   "cell_type": "code",
   "execution_count": 43,
   "id": "fc53ef0f",
   "metadata": {
    "scrolled": true
   },
   "outputs": [
    {
     "data": {
      "image/png": "[encoded data removed]",
      "text/plain": [
       "<Figure size 1000x600 with 1 Axes>"
      ]
     },
     "metadata": {},
     "output_type": "display_data"
    }
   ],
   "source": [
    "# Below block is only for IMDB Ratings\n",
    "\n",
    "# plt.figure(figsize=(10, 6))\n",
    "# sns.distplot(df['IMDB Ratings'], color='r')\n",
    "# plt.title('Ratings Distribution', size=18)\n",
    "# plt.xlabel('Ratings', size=14)\n",
    "# plt.ylabel('Density', size=14)\n",
    "# plt.show()\n",
    "\n",
    "# Below block is only for Certification/Ratings\n",
    "\n",
    "\n",
    "# import matplotlib.pyplot as plt\n",
    "# import seaborn as sns\n",
    "\n",
    "# plt.figure(figsize=(10, 6))\n",
    "# sns.countplot(data=df, x='Certification/Rating', color='r')\n",
    "# plt.title('Certification Distribution', size=18)\n",
    "# plt.xlabel('Certification/Rating', size=14)\n",
    "# plt.ylabel('Count', size=14)\n",
    "# plt.show()\n",
    "\n",
    "# Below block is only for everyting Elsebb\n",
    "\n",
    "plt.figure(figsize=(10, 6))\n",
    "sns.distplot(df['Year'], color='r')\n",
    "plt.title('Year Distribution', size=18)\n",
    "plt.xlabel('Year', size=14)\n",
    "plt.ylabel('Density', size=14)\n",
    "plt.show()"
   ]
  },
  {
   "cell_type": "code",
   "execution_count": 45,
   "id": "274c438e",
   "metadata": {},
   "outputs": [
    {
     "data": {
      "image/png": "[encoded data removed]",
      "text/plain": [
       "<Figure size 1000x600 with 1 Axes>"
      ]
     },
     "metadata": {},
     "output_type": "display_data"
    }
   ],
   "source": [
    "plt.figure(figsize=(10,6))\n",
    "sns.histplot(df.Year)\n",
    "plt.title('Year Distribution',size=18)\n",
    "plt.xlabel('Year',size=14)\n",
    "plt.ylabel('Count',size=14)\n",
    "plt.show()"
   ]
  },
  {
   "cell_type": "code",
   "execution_count": 46,
   "id": "484410dc",
   "metadata": {},
   "outputs": [
    {
     "data": {
      "image/png": "[encoded data removed]",
      "text/plain": [
       "<Figure size 1000x600 with 2 Axes>"
      ]
     },
     "metadata": {},
     "output_type": "display_data"
    }
   ],
   "source": [
    "plt.figure(figsize = (10,6))\n",
    "sns.heatmap(df.corr(),annot=True,square=True,\n",
    "            cmap='RdBu',\n",
    "            vmax=1,\n",
    "            vmin=-1)\n",
    "plt.title('Correlations Between Variables',size=18);\n",
    "plt.xticks(size=13)\n",
    "plt.yticks(size=13)\n",
    "plt.show()"
   ]
  },
  {
   "cell_type": "code",
   "execution_count": 56,
   "id": "2d1f62f3",
   "metadata": {},
   "outputs": [
    {
     "data": {
      "application/vnd.jupyter.widget-view+json": {
       "model_id": "9331d082c2594a6aaf043e267456da53",
       "version_major": 2,
       "version_minor": 0
      },
      "text/plain": [
       "                                             |                                             | [  0%]   00:00 ->…"
      ]
     },
     "metadata": {},
     "output_type": "display_data"
    },
    {
     "name": "stdout",
     "output_type": "stream",
     "text": [
      "Report SWEETVIZ_REPORT.html was generated! NOTEBOOK/COLAB USERS: the web browser MAY not pop up, regardless, the report IS saved in your notebook/colab files.\n"
     ]
    }
   ],
   "source": [
    "import sweetviz as sv\n",
    "import pandas as pd\n",
    "\n",
    "# Replace 'your_data.csv' with the path to your dataset file or provide your DataFrame\n",
    "df = pd.read_csv('hollywood_movies_dataset.csv',encoding='iso-8859-1')  # Example: Read a CSV file into a DataFrame\n",
    "\n",
    "# Analyze and generate a report for your DataFrame\n",
    "my_report = sv.analyze(df)\n",
    "\n",
    "# Show the Sweetviz report as an HTML page\n",
    "my_report.show_html()"
   ]
  },
  {
   "cell_type": "code",
   "execution_count": 61,
   "id": "e140a8ce",
   "metadata": {},
   "outputs": [
    {
     "name": "stdout",
     "output_type": "stream",
     "text": [
      "Collecting dataprep\n",
      "  Using cached dataprep-0.4.1-py3-none-any.whl (3.5 MB)\n",
      "Requirement already satisfied: aiohttp<4.0,>=3.6 in c:\\users\\abhik\\anaconda3\\lib\\site-packages (from dataprep) (3.8.3)\n",
      "Requirement already satisfied: bokeh<3,>=2 in c:\\users\\abhik\\anaconda3\\lib\\site-packages (from dataprep) (2.4.3)\n",
      "Requirement already satisfied: bottleneck<2.0,>=1.3 in c:\\users\\abhik\\anaconda3\\lib\\site-packages (from dataprep) (1.3.5)\n",
      "Collecting dask[array,dataframe,delayed]<3.0,>=2.25 (from dataprep)\n",
      "  Using cached dask-2.30.0-py3-none-any.whl (848 kB)\n",
      "Collecting flask<2.0.0,>=1.1.4 (from dataprep)\n",
      "  Using cached Flask-1.1.4-py2.py3-none-any.whl (94 kB)\n",
      "Collecting flask_cors<4.0.0,>=3.0.10 (from dataprep)\n",
      "  Using cached Flask_Cors-3.0.10-py2.py3-none-any.whl (14 kB)\n",
      "Collecting ipywidgets<8.0,>=7.5 (from dataprep)\n",
      "  Obtaining dependency information for ipywidgets<8.0,>=7.5 from https://files.pythonhosted.org/packages/14/3f/fa7fcf85061819f5a10ed09eaef38fe97d0f3f91d14674bbb26c3fc2a622/ipywidgets-7.8.1-py2.py3-none-any.whl.metadata\n",
      "  Using cached ipywidgets-7.8.1-py2.py3-none-any.whl.metadata (1.9 kB)\n",
      "Collecting jinja2<3.0,>=2.11 (from dataprep)\n",
      "  Using cached Jinja2-2.11.3-py2.py3-none-any.whl (125 kB)\n",
      "Collecting jsonpath-ng<2.0,>=1.5 (from dataprep)\n",
      "  Obtaining dependency information for jsonpath-ng<2.0,>=1.5 from https://files.pythonhosted.org/packages/92/8d/f6592a8267fcf85d4066605d671b509b456866b962554112c562d2b8be4b/jsonpath_ng-1.6.0-py3-none-any.whl.metadata\n",
      "  Using cached jsonpath_ng-1.6.0-py3-none-any.whl.metadata (17 kB)\n",
      "Collecting levenshtein<0.13.0,>=0.12.0 (from dataprep)\n",
      "  Using cached levenshtein-0.12.0.tar.gz (54 kB)\n",
      "  Preparing metadata (setup.py): started\n",
      "  Preparing metadata (setup.py): finished with status 'done'\n",
      "Collecting metaphone<0.7,>=0.6 (from dataprep)\n",
      "  Using cached Metaphone-0.6-py3-none-any.whl\n",
      "Requirement already satisfied: nltk<4.0,>=3.5 in c:\\users\\abhik\\anaconda3\\lib\\site-packages (from dataprep) (3.8.1)\n",
      "Requirement already satisfied: numpy<2,>=1 in c:\\users\\abhik\\anaconda3\\lib\\site-packages (from dataprep) (1.24.3)\n",
      "Requirement already satisfied: pandas<2.0,>=1.1 in c:\\users\\abhik\\anaconda3\\lib\\site-packages (from dataprep) (1.5.3)\n",
      "Collecting pydantic<2.0,>=1.6 (from dataprep)\n",
      "  Obtaining dependency information for pydantic<2.0,>=1.6 from https://files.pythonhosted.org/packages/9c/2b/20029a5c58943c0dd19bbf1fda77e820101b63a26237b060217821a3daa3/pydantic-1.10.13-cp311-cp311-win_amd64.whl.metadata\n",
      "  Using cached pydantic-1.10.13-cp311-cp311-win_amd64.whl.metadata (150 kB)\n",
      "Collecting python-stdnum<2.0,>=1.16 (from dataprep)\n",
      "  Obtaining dependency information for python-stdnum<2.0,>=1.16 from https://files.pythonhosted.org/packages/e3/c3/6ce1809a33fb8d1a4cc5c118cc5cf423b8844ab80324ae76b7cd6bcf31b2/python_stdnum-1.19-py2.py3-none-any.whl.metadata\n",
      "  Using cached python_stdnum-1.19-py2.py3-none-any.whl.metadata (17 kB)\n",
      "Collecting regex<2021.0.0,>=2020.10.15 (from dataprep)\n",
      "  Using cached regex-2020.11.13.tar.gz (694 kB)\n",
      "  Preparing metadata (setup.py): started\n",
      "  Preparing metadata (setup.py): finished with status 'done'\n",
      "Requirement already satisfied: scipy<2,>=1 in c:\\users\\abhik\\anaconda3\\lib\\site-packages (from dataprep) (1.10.1)\n",
      "Requirement already satisfied: tqdm<5.0,>=4.48 in c:\\users\\abhik\\anaconda3\\lib\\site-packages (from dataprep) (4.65.0)\n",
      "Collecting usaddress<0.6.0,>=0.5.10 (from dataprep)\n",
      "  Using cached usaddress-0.5.10-py2.py3-none-any.whl (63 kB)\n",
      "Collecting varname<0.9.0,>=0.8.1 (from dataprep)\n",
      "  Using cached varname-0.8.3-py3-none-any.whl (21 kB)\n",
      "Requirement already satisfied: wordcloud<2.0,>=1.8 in c:\\users\\abhik\\anaconda3\\lib\\site-packages (from dataprep) (1.9.2)\n",
      "Requirement already satisfied: attrs>=17.3.0 in c:\\users\\abhik\\anaconda3\\lib\\site-packages (from aiohttp<4.0,>=3.6->dataprep) (22.1.0)\n",
      "Requirement already satisfied: charset-normalizer<3.0,>=2.0 in c:\\users\\abhik\\anaconda3\\lib\\site-packages (from aiohttp<4.0,>=3.6->dataprep) (2.0.4)\n",
      "Requirement already satisfied: multidict<7.0,>=4.5 in c:\\users\\abhik\\anaconda3\\lib\\site-packages (from aiohttp<4.0,>=3.6->dataprep) (6.0.2)\n",
      "Requirement already satisfied: async-timeout<5.0,>=4.0.0a3 in c:\\users\\abhik\\anaconda3\\lib\\site-packages (from aiohttp<4.0,>=3.6->dataprep) (4.0.2)\n",
      "Requirement already satisfied: yarl<2.0,>=1.0 in c:\\users\\abhik\\anaconda3\\lib\\site-packages (from aiohttp<4.0,>=3.6->dataprep) (1.8.1)\n",
      "Requirement already satisfied: frozenlist>=1.1.1 in c:\\users\\abhik\\anaconda3\\lib\\site-packages (from aiohttp<4.0,>=3.6->dataprep) (1.3.3)\n",
      "Requirement already satisfied: aiosignal>=1.1.2 in c:\\users\\abhik\\anaconda3\\lib\\site-packages (from aiohttp<4.0,>=3.6->dataprep) (1.2.0)\n",
      "Requirement already satisfied: packaging>=16.8 in c:\\users\\abhik\\anaconda3\\lib\\site-packages (from bokeh<3,>=2->dataprep) (23.0)\n",
      "Requirement already satisfied: pillow>=7.1.0 in c:\\users\\abhik\\anaconda3\\lib\\site-packages (from bokeh<3,>=2->dataprep) (9.4.0)\n",
      "Requirement already satisfied: PyYAML>=3.10 in c:\\users\\abhik\\anaconda3\\lib\\site-packages (from bokeh<3,>=2->dataprep) (6.0)\n",
      "Requirement already satisfied: tornado>=5.1 in c:\\users\\abhik\\anaconda3\\lib\\site-packages (from bokeh<3,>=2->dataprep) (6.3.2)\n",
      "Requirement already satisfied: typing-extensions>=3.10.0 in c:\\users\\abhik\\anaconda3\\lib\\site-packages (from bokeh<3,>=2->dataprep) (4.7.1)\n",
      "Requirement already satisfied: toolz>=0.8.2 in c:\\users\\abhik\\anaconda3\\lib\\site-packages (from dask[array,dataframe,delayed]<3.0,>=2.25->dataprep) (0.12.0)\n",
      "Requirement already satisfied: partd>=0.3.10 in c:\\users\\abhik\\anaconda3\\lib\\site-packages (from dask[array,dataframe,delayed]<3.0,>=2.25->dataprep) (1.2.0)\n",
      "Requirement already satisfied: fsspec>=0.6.0 in c:\\users\\abhik\\anaconda3\\lib\\site-packages (from dask[array,dataframe,delayed]<3.0,>=2.25->dataprep) (2023.3.0)\n",
      "Requirement already satisfied: cloudpickle>=0.2.2 in c:\\users\\abhik\\anaconda3\\lib\\site-packages (from dask[array,dataframe,delayed]<3.0,>=2.25->dataprep) (2.2.1)\n",
      "Collecting Werkzeug<2.0,>=0.15 (from flask<2.0.0,>=1.1.4->dataprep)\n",
      "  Using cached Werkzeug-1.0.1-py2.py3-none-any.whl (298 kB)\n",
      "Collecting itsdangerous<2.0,>=0.24 (from flask<2.0.0,>=1.1.4->dataprep)\n",
      "  Using cached itsdangerous-1.1.0-py2.py3-none-any.whl (16 kB)\n",
      "Collecting click<8.0,>=5.1 (from flask<2.0.0,>=1.1.4->dataprep)\n",
      "  Using cached click-7.1.2-py2.py3-none-any.whl (82 kB)\n",
      "Requirement already satisfied: Six in c:\\users\\abhik\\anaconda3\\lib\\site-packages (from flask_cors<4.0.0,>=3.0.10->dataprep) (1.16.0)\n",
      "Collecting comm>=0.1.3 (from ipywidgets<8.0,>=7.5->dataprep)\n",
      "  Obtaining dependency information for comm>=0.1.3 from https://files.pythonhosted.org/packages/fe/47/0133ac1b7dc476ed77710715e98077119b3d9bae56b13f6f9055e7da1c53/comm-0.1.4-py3-none-any.whl.metadata\n",
      "  Using cached comm-0.1.4-py3-none-any.whl.metadata (4.2 kB)\n",
      "Requirement already satisfied: ipython-genutils~=0.2.0 in c:\\users\\abhik\\anaconda3\\lib\\site-packages (from ipywidgets<8.0,>=7.5->dataprep) (0.2.0)\n",
      "Requirement already satisfied: traitlets>=4.3.1 in c:\\users\\abhik\\anaconda3\\lib\\site-packages (from ipywidgets<8.0,>=7.5->dataprep) (5.7.1)\n",
      "Collecting widgetsnbextension~=3.6.6 (from ipywidgets<8.0,>=7.5->dataprep)\n",
      "  Obtaining dependency information for widgetsnbextension~=3.6.6 from https://files.pythonhosted.org/packages/9c/a0/ba2634cd75b7d7f8f9aeb38edf854cd6c9877ec064013a62630b4541b88f/widgetsnbextension-3.6.6-py2.py3-none-any.whl.metadata\n",
      "  Using cached widgetsnbextension-3.6.6-py2.py3-none-any.whl.metadata (1.3 kB)\n",
      "Requirement already satisfied: ipython>=4.0.0 in c:\\users\\abhik\\anaconda3\\lib\\site-packages (from ipywidgets<8.0,>=7.5->dataprep) (8.12.0)\n",
      "Collecting jupyterlab-widgets<3,>=1.0.0 (from ipywidgets<8.0,>=7.5->dataprep)\n",
      "  Obtaining dependency information for jupyterlab-widgets<3,>=1.0.0 from https://files.pythonhosted.org/packages/06/c9/50a16b6e7410d661ea16160f8c650c444ab83740b437b3c202ca7d8e2b73/jupyterlab_widgets-1.1.7-py3-none-any.whl.metadata\n",
      "  Using cached jupyterlab_widgets-1.1.7-py3-none-any.whl.metadata (3.7 kB)\n",
      "Requirement already satisfied: MarkupSafe>=0.23 in c:\\users\\abhik\\anaconda3\\lib\\site-packages (from jinja2<3.0,>=2.11->dataprep) (2.1.1)\n",
      "Requirement already satisfied: ply in c:\\users\\abhik\\anaconda3\\lib\\site-packages (from jsonpath-ng<2.0,>=1.5->dataprep) (3.11)\n",
      "Requirement already satisfied: setuptools in c:\\users\\abhik\\anaconda3\\lib\\site-packages (from levenshtein<0.13.0,>=0.12.0->dataprep) (68.2.2)\n",
      "Requirement already satisfied: joblib in c:\\users\\abhik\\anaconda3\\lib\\site-packages (from nltk<4.0,>=3.5->dataprep) (1.1.1)\n",
      "INFO: pip is looking at multiple versions of nltk to determine which version is compatible with other requirements. This could take a while.\n",
      "Collecting nltk<4.0,>=3.5 (from dataprep)\n",
      "  Using cached nltk-3.8-py3-none-any.whl (1.5 MB)\n",
      "  Using cached nltk-3.7-py3-none-any.whl (1.5 MB)\n",
      "  Using cached nltk-3.6.7-py3-none-any.whl (1.5 MB)\n",
      "  Using cached nltk-3.6.6-py3-none-any.whl (1.5 MB)\n",
      "  Using cached nltk-3.6.5-py3-none-any.whl (1.5 MB)\n",
      "  Using cached nltk-3.6.3-py3-none-any.whl (1.5 MB)\n",
      "Requirement already satisfied: python-dateutil>=2.8.1 in c:\\users\\abhik\\anaconda3\\lib\\site-packages (from pandas<2.0,>=1.1->dataprep) (2.8.2)\n",
      "Requirement already satisfied: pytz>=2020.1 in c:\\users\\abhik\\anaconda3\\lib\\site-packages (from pandas<2.0,>=1.1->dataprep) (2022.7)\n",
      "Requirement already satisfied: colorama in c:\\users\\abhik\\anaconda3\\lib\\site-packages (from tqdm<5.0,>=4.48->dataprep) (0.4.6)\n",
      "Requirement already satisfied: future>=0.14 in c:\\users\\abhik\\anaconda3\\lib\\site-packages (from usaddress<0.6.0,>=0.5.10->dataprep) (0.18.3)\n",
      "Collecting probableparsing (from usaddress<0.6.0,>=0.5.10->dataprep)\n",
      "  Using cached probableparsing-0.0.1-py2.py3-none-any.whl (3.1 kB)\n",
      "Collecting python-crfsuite>=0.7 (from usaddress<0.6.0,>=0.5.10->dataprep)\n",
      "  Using cached python-crfsuite-0.9.9.tar.gz (440 kB)\n",
      "  Preparing metadata (setup.py): started\n",
      "  Preparing metadata (setup.py): finished with status 'done'\n",
      "Requirement already satisfied: asttokens<3.0.0,>=2.0.0 in c:\\users\\abhik\\anaconda3\\lib\\site-packages (from varname<0.9.0,>=0.8.1->dataprep) (2.0.5)\n",
      "Requirement already satisfied: executing<0.9.0,>=0.8.3 in c:\\users\\abhik\\anaconda3\\lib\\site-packages (from varname<0.9.0,>=0.8.1->dataprep) (0.8.3)\n",
      "Requirement already satisfied: pure_eval<1.0.0 in c:\\users\\abhik\\anaconda3\\lib\\site-packages (from varname<0.9.0,>=0.8.1->dataprep) (0.2.2)\n",
      "Requirement already satisfied: matplotlib in c:\\users\\abhik\\anaconda3\\lib\\site-packages (from wordcloud<2.0,>=1.8->dataprep) (3.7.1)\n",
      "Requirement already satisfied: backcall in c:\\users\\abhik\\anaconda3\\lib\\site-packages (from ipython>=4.0.0->ipywidgets<8.0,>=7.5->dataprep) (0.2.0)\n",
      "Requirement already satisfied: decorator in c:\\users\\abhik\\anaconda3\\lib\\site-packages (from ipython>=4.0.0->ipywidgets<8.0,>=7.5->dataprep) (5.1.1)\n",
      "Requirement already satisfied: jedi>=0.16 in c:\\users\\abhik\\anaconda3\\lib\\site-packages (from ipython>=4.0.0->ipywidgets<8.0,>=7.5->dataprep) (0.18.1)\n",
      "Requirement already satisfied: matplotlib-inline in c:\\users\\abhik\\anaconda3\\lib\\site-packages (from ipython>=4.0.0->ipywidgets<8.0,>=7.5->dataprep) (0.1.6)\n",
      "Requirement already satisfied: pickleshare in c:\\users\\abhik\\anaconda3\\lib\\site-packages (from ipython>=4.0.0->ipywidgets<8.0,>=7.5->dataprep) (0.7.5)\n",
      "Requirement already satisfied: prompt-toolkit!=3.0.37,<3.1.0,>=3.0.30 in c:\\users\\abhik\\anaconda3\\lib\\site-packages (from ipython>=4.0.0->ipywidgets<8.0,>=7.5->dataprep) (3.0.36)\n",
      "Requirement already satisfied: pygments>=2.4.0 in c:\\users\\abhik\\anaconda3\\lib\\site-packages (from ipython>=4.0.0->ipywidgets<8.0,>=7.5->dataprep) (2.15.1)\n",
      "Requirement already satisfied: stack-data in c:\\users\\abhik\\anaconda3\\lib\\site-packages (from ipython>=4.0.0->ipywidgets<8.0,>=7.5->dataprep) (0.2.0)\n",
      "Requirement already satisfied: locket in c:\\users\\abhik\\anaconda3\\lib\\site-packages (from partd>=0.3.10->dask[array,dataframe,delayed]<3.0,>=2.25->dataprep) (1.0.0)\n",
      "Requirement already satisfied: notebook>=4.4.1 in c:\\users\\abhik\\anaconda3\\lib\\site-packages (from widgetsnbextension~=3.6.6->ipywidgets<8.0,>=7.5->dataprep) (6.5.4)\n",
      "Requirement already satisfied: idna>=2.0 in c:\\users\\abhik\\anaconda3\\lib\\site-packages (from yarl<2.0,>=1.0->aiohttp<4.0,>=3.6->dataprep) (3.4)\n",
      "Requirement already satisfied: contourpy>=1.0.1 in c:\\users\\abhik\\anaconda3\\lib\\site-packages (from matplotlib->wordcloud<2.0,>=1.8->dataprep) (1.0.5)\n",
      "Requirement already satisfied: cycler>=0.10 in c:\\users\\abhik\\anaconda3\\lib\\site-packages (from matplotlib->wordcloud<2.0,>=1.8->dataprep) (0.11.0)\n",
      "Requirement already satisfied: fonttools>=4.22.0 in c:\\users\\abhik\\anaconda3\\lib\\site-packages (from matplotlib->wordcloud<2.0,>=1.8->dataprep) (4.25.0)\n",
      "Requirement already satisfied: kiwisolver>=1.0.1 in c:\\users\\abhik\\anaconda3\\lib\\site-packages (from matplotlib->wordcloud<2.0,>=1.8->dataprep) (1.4.4)\n",
      "Requirement already satisfied: pyparsing>=2.3.1 in c:\\users\\abhik\\anaconda3\\lib\\site-packages (from matplotlib->wordcloud<2.0,>=1.8->dataprep) (3.0.9)\n",
      "Requirement already satisfied: parso<0.9.0,>=0.8.0 in c:\\users\\abhik\\anaconda3\\lib\\site-packages (from jedi>=0.16->ipython>=4.0.0->ipywidgets<8.0,>=7.5->dataprep) (0.8.3)\n",
      "Requirement already satisfied: pyzmq>=17 in c:\\users\\abhik\\anaconda3\\lib\\site-packages (from notebook>=4.4.1->widgetsnbextension~=3.6.6->ipywidgets<8.0,>=7.5->dataprep) (23.2.0)\n",
      "Requirement already satisfied: argon2-cffi in c:\\users\\abhik\\anaconda3\\lib\\site-packages (from notebook>=4.4.1->widgetsnbextension~=3.6.6->ipywidgets<8.0,>=7.5->dataprep) (21.3.0)\n",
      "Requirement already satisfied: jupyter-core>=4.6.1 in c:\\users\\abhik\\anaconda3\\lib\\site-packages (from notebook>=4.4.1->widgetsnbextension~=3.6.6->ipywidgets<8.0,>=7.5->dataprep) (5.3.0)\n",
      "Requirement already satisfied: jupyter-client>=5.3.4 in c:\\users\\abhik\\anaconda3\\lib\\site-packages (from notebook>=4.4.1->widgetsnbextension~=3.6.6->ipywidgets<8.0,>=7.5->dataprep) (7.4.9)\n",
      "Requirement already satisfied: nbformat in c:\\users\\abhik\\anaconda3\\lib\\site-packages (from notebook>=4.4.1->widgetsnbextension~=3.6.6->ipywidgets<8.0,>=7.5->dataprep) (5.7.0)\n",
      "Requirement already satisfied: nbconvert>=5 in c:\\users\\abhik\\anaconda3\\lib\\site-packages (from notebook>=4.4.1->widgetsnbextension~=3.6.6->ipywidgets<8.0,>=7.5->dataprep) (6.5.4)\n",
      "Requirement already satisfied: nest-asyncio>=1.5 in c:\\users\\abhik\\anaconda3\\lib\\site-packages (from notebook>=4.4.1->widgetsnbextension~=3.6.6->ipywidgets<8.0,>=7.5->dataprep) (1.5.6)\n",
      "Requirement already satisfied: ipykernel in c:\\users\\abhik\\anaconda3\\lib\\site-packages (from notebook>=4.4.1->widgetsnbextension~=3.6.6->ipywidgets<8.0,>=7.5->dataprep) (6.19.2)\n",
      "Requirement already satisfied: Send2Trash>=1.8.0 in c:\\users\\abhik\\anaconda3\\lib\\site-packages (from notebook>=4.4.1->widgetsnbextension~=3.6.6->ipywidgets<8.0,>=7.5->dataprep) (1.8.0)\n",
      "Requirement already satisfied: terminado>=0.8.3 in c:\\users\\abhik\\anaconda3\\lib\\site-packages (from notebook>=4.4.1->widgetsnbextension~=3.6.6->ipywidgets<8.0,>=7.5->dataprep) (0.17.1)\n",
      "Requirement already satisfied: prometheus-client in c:\\users\\abhik\\anaconda3\\lib\\site-packages (from notebook>=4.4.1->widgetsnbextension~=3.6.6->ipywidgets<8.0,>=7.5->dataprep) (0.14.1)\n",
      "Requirement already satisfied: nbclassic>=0.4.7 in c:\\users\\abhik\\anaconda3\\lib\\site-packages (from notebook>=4.4.1->widgetsnbextension~=3.6.6->ipywidgets<8.0,>=7.5->dataprep) (0.5.5)\n",
      "Requirement already satisfied: wcwidth in c:\\users\\abhik\\anaconda3\\lib\\site-packages (from prompt-toolkit!=3.0.37,<3.1.0,>=3.0.30->ipython>=4.0.0->ipywidgets<8.0,>=7.5->dataprep) (0.2.5)\n",
      "Requirement already satisfied: entrypoints in c:\\users\\abhik\\anaconda3\\lib\\site-packages (from jupyter-client>=5.3.4->notebook>=4.4.1->widgetsnbextension~=3.6.6->ipywidgets<8.0,>=7.5->dataprep) (0.4)\n",
      "Requirement already satisfied: platformdirs>=2.5 in c:\\users\\abhik\\anaconda3\\lib\\site-packages (from jupyter-core>=4.6.1->notebook>=4.4.1->widgetsnbextension~=3.6.6->ipywidgets<8.0,>=7.5->dataprep) (2.5.2)\n",
      "Requirement already satisfied: pywin32>=300 in c:\\users\\abhik\\anaconda3\\lib\\site-packages (from jupyter-core>=4.6.1->notebook>=4.4.1->widgetsnbextension~=3.6.6->ipywidgets<8.0,>=7.5->dataprep) (305.1)\n",
      "Requirement already satisfied: jupyter-server>=1.8 in c:\\users\\abhik\\anaconda3\\lib\\site-packages (from nbclassic>=0.4.7->notebook>=4.4.1->widgetsnbextension~=3.6.6->ipywidgets<8.0,>=7.5->dataprep) (1.23.4)\n",
      "Requirement already satisfied: notebook-shim>=0.1.0 in c:\\users\\abhik\\anaconda3\\lib\\site-packages (from nbclassic>=0.4.7->notebook>=4.4.1->widgetsnbextension~=3.6.6->ipywidgets<8.0,>=7.5->dataprep) (0.2.2)\n",
      "Requirement already satisfied: lxml in c:\\users\\abhik\\anaconda3\\lib\\site-packages (from nbconvert>=5->notebook>=4.4.1->widgetsnbextension~=3.6.6->ipywidgets<8.0,>=7.5->dataprep) (4.9.2)\n",
      "Requirement already satisfied: beautifulsoup4 in c:\\users\\abhik\\anaconda3\\lib\\site-packages (from nbconvert>=5->notebook>=4.4.1->widgetsnbextension~=3.6.6->ipywidgets<8.0,>=7.5->dataprep) (4.12.2)\n",
      "Requirement already satisfied: bleach in c:\\users\\abhik\\anaconda3\\lib\\site-packages (from nbconvert>=5->notebook>=4.4.1->widgetsnbextension~=3.6.6->ipywidgets<8.0,>=7.5->dataprep) (4.1.0)\n",
      "Requirement already satisfied: defusedxml in c:\\users\\abhik\\anaconda3\\lib\\site-packages (from nbconvert>=5->notebook>=4.4.1->widgetsnbextension~=3.6.6->ipywidgets<8.0,>=7.5->dataprep) (0.7.1)\n",
      "INFO: pip is looking at multiple versions of nbconvert to determine which version is compatible with other requirements. This could take a while.\n",
      "Collecting nbconvert>=5 (from notebook>=4.4.1->widgetsnbextension~=3.6.6->ipywidgets<8.0,>=7.5->dataprep)\n",
      "  Obtaining dependency information for nbconvert>=5 from https://files.pythonhosted.org/packages/5b/08/6af17268360385f767c7a53dd2b71b9718c61911464fb34f5453c80cfe48/nbconvert-7.9.2-py3-none-any.whl.metadata\n",
      "  Using cached nbconvert-7.9.2-py3-none-any.whl.metadata (7.9 kB)\n",
      "  Obtaining dependency information for nbconvert>=5 from https://files.pythonhosted.org/packages/0d/2e/434ec240806b138a720c89ef8f7cfd84ea15879b63aba6982031ca1571e9/nbconvert-7.9.1-py3-none-any.whl.metadata\n",
      "  Using cached nbconvert-7.9.1-py3-none-any.whl.metadata (7.9 kB)\n",
      "  Obtaining dependency information for nbconvert>=5 from https://files.pythonhosted.org/packages/ae/b4/73f5a8c17eb9b334a3958e0d85f69ce6744e481e34e1bd4129f4b2f9c38e/nbconvert-7.9.0-py3-none-any.whl.metadata\n",
      "  Using cached nbconvert-7.9.0-py3-none-any.whl.metadata (7.9 kB)\n",
      "  Obtaining dependency information for nbconvert>=5 from https://files.pythonhosted.org/packages/a4/a6/072b6fd04616f1409f37ef5967ea5bbbeea1447d4494c2d98658a95fc985/nbconvert-7.8.0-py3-none-any.whl.metadata\n",
      "  Using cached nbconvert-7.8.0-py3-none-any.whl.metadata (8.0 kB)\n",
      "  Obtaining dependency information for nbconvert>=5 from https://files.pythonhosted.org/packages/80/ed/d883918ca3777f744f3373fc63d8af47b47237ca703450a451b3e885264a/nbconvert-7.7.4-py3-none-any.whl.metadata\n",
      "  Using cached nbconvert-7.7.4-py3-none-any.whl.metadata (8.0 kB)\n",
      "  Obtaining dependency information for nbconvert>=5 from https://files.pythonhosted.org/packages/51/bd/ede955c9e981abf6d0e12a7583fd0f9256eedfb461073f25045770f3e717/nbconvert-7.7.3-py3-none-any.whl.metadata\n",
      "  Using cached nbconvert-7.7.3-py3-none-any.whl.metadata (8.0 kB)\n",
      "  Obtaining dependency information for nbconvert>=5 from https://files.pythonhosted.org/packages/93/04/cc10ee418087f2a83f6862b9043291658ab81865f38cad41c74fba2306e5/nbconvert-7.7.2-py3-none-any.whl.metadata\n",
      "  Using cached nbconvert-7.7.2-py3-none-any.whl.metadata (8.0 kB)\n",
      "INFO: pip is still looking at multiple versions of nbconvert to determine which version is compatible with other requirements. This could take a while.\n",
      "  Obtaining dependency information for nbconvert>=5 from https://files.pythonhosted.org/packages/2b/f3/82f51440acd133dc8bb11688312e801c115221c7ed601075c9728447f288/nbconvert-7.7.1-py3-none-any.whl.metadata\n",
      "  Using cached nbconvert-7.7.1-py3-none-any.whl.metadata (8.0 kB)\n",
      "  Obtaining dependency information for nbconvert>=5 from https://files.pythonhosted.org/packages/98/cf/a47b636a7c7754cbef3ccd63480c2ac00a1565f2657d12400350a4f0ae06/nbconvert-7.7.0-py3-none-any.whl.metadata\n",
      "  Using cached nbconvert-7.7.0-py3-none-any.whl.metadata (8.0 kB)\n",
      "  Obtaining dependency information for nbconvert>=5 from https://files.pythonhosted.org/packages/7d/65/bd0ed8fc533ad31742f2dc629523257ade468dea860d8ebb6faa1448d709/nbconvert-7.6.0-py3-none-any.whl.metadata\n",
      "  Using cached nbconvert-7.6.0-py3-none-any.whl.metadata (7.9 kB)\n",
      "  Obtaining dependency information for nbconvert>=5 from https://files.pythonhosted.org/packages/d9/8b/702359fe63516f6faa6b4f3255126fc958a80911fc73fb55bbe1053f3fa7/nbconvert-7.5.0-py3-none-any.whl.metadata\n",
      "  Using cached nbconvert-7.5.0-py3-none-any.whl.metadata (7.9 kB)\n",
      "  Using cached nbconvert-7.4.0-py3-none-any.whl (285 kB)\n",
      "INFO: This is taking longer than usual. You might need to provide the dependency resolver with stricter constraints to reduce runtime. See https://pip.pypa.io/warnings/backtracking for guidance. If you want to abort this run, press Ctrl + C.\n",
      "  Using cached nbconvert-7.3.1-py3-none-any.whl (284 kB)\n",
      "  Using cached nbconvert-7.3.0-py3-none-any.whl (284 kB)\n",
      "  Using cached nbconvert-7.2.10-py3-none-any.whl (275 kB)\n",
      "  Using cached nbconvert-7.2.9-py3-none-any.whl (274 kB)\n",
      "  Using cached nbconvert-7.2.8-py3-none-any.whl (274 kB)\n",
      "  Using cached nbconvert-7.2.7-py3-none-any.whl (273 kB)\n",
      "  Using cached nbconvert-7.2.6-py3-none-any.whl (273 kB)\n",
      "  Using cached nbconvert-7.2.5-py3-none-any.whl (273 kB)\n",
      "  Using cached nbconvert-7.2.4-py3-none-any.whl (273 kB)\n",
      "  Using cached nbconvert-7.2.3-py3-none-any.whl (273 kB)\n",
      "  Using cached nbconvert-7.2.2-py3-none-any.whl (271 kB)\n",
      "  Using cached nbconvert-7.2.1-py3-none-any.whl (271 kB)\n",
      "  Using cached nbconvert-7.1.0-py3-none-any.whl (272 kB)\n",
      "  Using cached nbconvert-7.0.0-py3-none-any.whl (271 kB)\n",
      "  Using cached nbconvert-6.5.3-py3-none-any.whl (563 kB)\n",
      "  Using cached nbconvert-6.5.2-py3-none-any.whl (563 kB)\n",
      "  Using cached nbconvert-6.5.1-py3-none-any.whl (563 kB)\n",
      "  Using cached nbconvert-6.5.0-py3-none-any.whl (561 kB)\n",
      "  Using cached nbconvert-6.4.5-py3-none-any.whl (561 kB)\n",
      "Requirement already satisfied: mistune<2,>=0.8.1 in c:\\users\\abhik\\anaconda3\\lib\\site-packages (from nbconvert>=5->notebook>=4.4.1->widgetsnbextension~=3.6.6->ipywidgets<8.0,>=7.5->dataprep) (0.8.4)\n",
      "Requirement already satisfied: jupyterlab-pygments in c:\\users\\abhik\\anaconda3\\lib\\site-packages (from nbconvert>=5->notebook>=4.4.1->widgetsnbextension~=3.6.6->ipywidgets<8.0,>=7.5->dataprep) (0.1.2)\n",
      "Requirement already satisfied: pandocfilters>=1.4.1 in c:\\users\\abhik\\anaconda3\\lib\\site-packages (from nbconvert>=5->notebook>=4.4.1->widgetsnbextension~=3.6.6->ipywidgets<8.0,>=7.5->dataprep) (1.5.0)\n",
      "Collecting testpath (from nbconvert>=5->notebook>=4.4.1->widgetsnbextension~=3.6.6->ipywidgets<8.0,>=7.5->dataprep)\n",
      "  Using cached testpath-0.6.0-py3-none-any.whl (83 kB)\n",
      "Requirement already satisfied: nbclient<0.6.0,>=0.5.0 in c:\\users\\abhik\\anaconda3\\lib\\site-packages (from nbconvert>=5->notebook>=4.4.1->widgetsnbextension~=3.6.6->ipywidgets<8.0,>=7.5->dataprep) (0.5.13)\n",
      "Requirement already satisfied: fastjsonschema in c:\\users\\abhik\\anaconda3\\lib\\site-packages (from nbformat->notebook>=4.4.1->widgetsnbextension~=3.6.6->ipywidgets<8.0,>=7.5->dataprep) (2.16.2)\n",
      "Requirement already satisfied: jsonschema>=2.6 in c:\\users\\abhik\\anaconda3\\lib\\site-packages (from nbformat->notebook>=4.4.1->widgetsnbextension~=3.6.6->ipywidgets<8.0,>=7.5->dataprep) (4.17.3)\n",
      "Requirement already satisfied: pywinpty>=1.1.0 in c:\\users\\abhik\\anaconda3\\lib\\site-packages (from terminado>=0.8.3->notebook>=4.4.1->widgetsnbextension~=3.6.6->ipywidgets<8.0,>=7.5->dataprep) (2.0.10)\n",
      "Requirement already satisfied: argon2-cffi-bindings in c:\\users\\abhik\\anaconda3\\lib\\site-packages (from argon2-cffi->notebook>=4.4.1->widgetsnbextension~=3.6.6->ipywidgets<8.0,>=7.5->dataprep) (21.2.0)\n",
      "Requirement already satisfied: debugpy>=1.0 in c:\\users\\abhik\\anaconda3\\lib\\site-packages (from ipykernel->notebook>=4.4.1->widgetsnbextension~=3.6.6->ipywidgets<8.0,>=7.5->dataprep) (1.6.7)\n",
      "Requirement already satisfied: psutil in c:\\users\\abhik\\anaconda3\\lib\\site-packages (from ipykernel->notebook>=4.4.1->widgetsnbextension~=3.6.6->ipywidgets<8.0,>=7.5->dataprep) (5.9.0)\n",
      "Requirement already satisfied: pyrsistent!=0.17.0,!=0.17.1,!=0.17.2,>=0.14.0 in c:\\users\\abhik\\anaconda3\\lib\\site-packages (from jsonschema>=2.6->nbformat->notebook>=4.4.1->widgetsnbextension~=3.6.6->ipywidgets<8.0,>=7.5->dataprep) (0.18.0)\n",
      "Requirement already satisfied: anyio<4,>=3.1.0 in c:\\users\\abhik\\anaconda3\\lib\\site-packages (from jupyter-server>=1.8->nbclassic>=0.4.7->notebook>=4.4.1->widgetsnbextension~=3.6.6->ipywidgets<8.0,>=7.5->dataprep) (3.5.0)\n",
      "Requirement already satisfied: websocket-client in c:\\users\\abhik\\anaconda3\\lib\\site-packages (from jupyter-server>=1.8->nbclassic>=0.4.7->notebook>=4.4.1->widgetsnbextension~=3.6.6->ipywidgets<8.0,>=7.5->dataprep) (0.58.0)\n",
      "Requirement already satisfied: cffi>=1.0.1 in c:\\users\\abhik\\anaconda3\\lib\\site-packages (from argon2-cffi-bindings->argon2-cffi->notebook>=4.4.1->widgetsnbextension~=3.6.6->ipywidgets<8.0,>=7.5->dataprep) (1.15.1)\n",
      "Requirement already satisfied: soupsieve>1.2 in c:\\users\\abhik\\anaconda3\\lib\\site-packages (from beautifulsoup4->nbconvert>=5->notebook>=4.4.1->widgetsnbextension~=3.6.6->ipywidgets<8.0,>=7.5->dataprep) (2.4)\n",
      "Requirement already satisfied: webencodings in c:\\users\\abhik\\anaconda3\\lib\\site-packages (from bleach->nbconvert>=5->notebook>=4.4.1->widgetsnbextension~=3.6.6->ipywidgets<8.0,>=7.5->dataprep) (0.5.1)\n",
      "Requirement already satisfied: sniffio>=1.1 in c:\\users\\abhik\\anaconda3\\lib\\site-packages (from anyio<4,>=3.1.0->jupyter-server>=1.8->nbclassic>=0.4.7->notebook>=4.4.1->widgetsnbextension~=3.6.6->ipywidgets<8.0,>=7.5->dataprep) (1.2.0)\n",
      "Requirement already satisfied: pycparser in c:\\users\\abhik\\anaconda3\\lib\\site-packages (from cffi>=1.0.1->argon2-cffi-bindings->argon2-cffi->notebook>=4.4.1->widgetsnbextension~=3.6.6->ipywidgets<8.0,>=7.5->dataprep) (2.21)\n",
      "Using cached ipywidgets-7.8.1-py2.py3-none-any.whl (124 kB)\n",
      "Using cached jsonpath_ng-1.6.0-py3-none-any.whl (29 kB)\n",
      "Using cached pydantic-1.10.13-cp311-cp311-win_amd64.whl (2.1 MB)\n",
      "Using cached python_stdnum-1.19-py2.py3-none-any.whl (1.0 MB)\n",
      "Using cached comm-0.1.4-py3-none-any.whl (6.6 kB)\n",
      "Using cached jupyterlab_widgets-1.1.7-py3-none-any.whl (295 kB)\n",
      "Using cached widgetsnbextension-3.6.6-py2.py3-none-any.whl (1.6 MB)\n",
      "Building wheels for collected packages: levenshtein, regex, python-crfsuite\n",
      "  Building wheel for levenshtein (setup.py): started\n",
      "  Building wheel for levenshtein (setup.py): finished with status 'error'\n",
      "  Running setup.py clean for levenshtein\n",
      "  Building wheel for regex (setup.py): started\n",
      "  Building wheel for regex (setup.py): finished with status 'error'\n",
      "  Running setup.py clean for regex\n",
      "  Building wheel for python-crfsuite (setup.py): started\n",
      "  Building wheel for python-crfsuite (setup.py): finished with status 'error'\n",
      "  Running setup.py clean for python-crfsuite\n",
      "Failed to build levenshtein regex python-crfsuite\n"
     ]
    },
    {
     "name": "stderr",
     "output_type": "stream",
     "text": [
      "  error: subprocess-exited-with-error\n",
      "  \n",
      "  python setup.py bdist_wheel did not run successfully.\n",
      "  exit code: 1\n",
      "  \n",
      "  [28 lines of output]\n",
      "  running bdist_wheel\n",
      "  running build\n",
      "  running build_py\n",
      "  creating build\n",
      "  creating build\\lib.win-amd64-cpython-311\n",
      "  creating build\\lib.win-amd64-cpython-311\\Levenshtein\n",
      "  copying Levenshtein\\StringMatcher.py -> build\\lib.win-amd64-cpython-311\\Levenshtein\n",
      "  copying Levenshtein\\__init__.py -> build\\lib.win-amd64-cpython-311\\Levenshtein\n",
      "  running egg_info\n",
      "  writing levenshtein.egg-info\\PKG-INFO\n",
      "  writing dependency_links to levenshtein.egg-info\\dependency_links.txt\n",
      "  deleting levenshtein.egg-info\\entry_points.txt\n",
      "  writing namespace_packages to levenshtein.egg-info\\namespace_packages.txt\n",
      "  writing requirements to levenshtein.egg-info\\requires.txt\n",
      "  writing top-level names to levenshtein.egg-info\\top_level.txt\n",
      "  reading manifest file 'levenshtein.egg-info\\SOURCES.txt'\n",
      "  reading manifest template 'MANIFEST.in'\n",
      "  warning: no previously-included files matching '*pyc' found anywhere in distribution\n",
      "  warning: no previously-included files matching '*so' found anywhere in distribution\n",
      "  warning: no previously-included files matching '.project' found anywhere in distribution\n",
      "  warning: no previously-included files matching '.pydevproject' found anywhere in distribution\n",
      "  adding license file 'COPYING'\n",
      "  writing manifest file 'levenshtein.egg-info\\SOURCES.txt'\n",
      "  copying Levenshtein\\_levenshtein.c -> build\\lib.win-amd64-cpython-311\\Levenshtein\n",
      "  copying Levenshtein\\_levenshtein.h -> build\\lib.win-amd64-cpython-311\\Levenshtein\n",
      "  running build_ext\n",
      "  building 'Levenshtein._levenshtein' extension\n",
      "  error: Microsoft Visual C++ 14.0 or greater is required. Get it with \"Microsoft C++ Build Tools\": https://visualstudio.microsoft.com/visual-cpp-build-tools/\n",
      "  [end of output]\n",
      "  \n",
      "  note: This error originates from a subprocess, and is likely not a problem with pip.\n",
      "  ERROR: Failed building wheel for levenshtein\n",
      "  error: subprocess-exited-with-error\n",
      "  \n",
      "  python setup.py bdist_wheel did not run successfully.\n",
      "  exit code: 1\n",
      "  \n",
      "  [13 lines of output]\n",
      "  running bdist_wheel\n",
      "  running build\n",
      "  running build_py\n",
      "  creating build\n",
      "  creating build\\lib.win-amd64-cpython-311\n",
      "  creating build\\lib.win-amd64-cpython-311\\regex\n",
      "  copying regex_3\\__init__.py -> build\\lib.win-amd64-cpython-311\\regex\n",
      "  copying regex_3\\regex.py -> build\\lib.win-amd64-cpython-311\\regex\n",
      "  copying regex_3\\_regex_core.py -> build\\lib.win-amd64-cpython-311\\regex\n",
      "  copying regex_3\\test_regex.py -> build\\lib.win-amd64-cpython-311\\regex\n",
      "  running build_ext\n",
      "  building 'regex._regex' extension\n",
      "  error: Microsoft Visual C++ 14.0 or greater is required. Get it with \"Microsoft C++ Build Tools\": https://visualstudio.microsoft.com/visual-cpp-build-tools/\n",
      "  [end of output]\n",
      "  \n",
      "  note: This error originates from a subprocess, and is likely not a problem with pip.\n",
      "  ERROR: Failed building wheel for regex\n",
      "  error: subprocess-exited-with-error\n",
      "  \n",
      "  python setup.py bdist_wheel did not run successfully.\n",
      "  exit code: 1\n",
      "  \n",
      "  [12 lines of output]\n",
      "  running bdist_wheel\n",
      "  running build\n",
      "  running build_py\n",
      "  creating build\n",
      "  creating build\\lib.win-amd64-cpython-311\n",
      "  creating build\\lib.win-amd64-cpython-311\\pycrfsuite\n",
      "  copying pycrfsuite\\_dumpparser.py -> build\\lib.win-amd64-cpython-311\\pycrfsuite\n",
      "  copying pycrfsuite\\_logparser.py -> build\\lib.win-amd64-cpython-311\\pycrfsuite\n",
      "  copying pycrfsuite\\__init__.py -> build\\lib.win-amd64-cpython-311\\pycrfsuite\n",
      "  running build_ext\n",
      "  building 'pycrfsuite._pycrfsuite' extension\n",
      "  error: Microsoft Visual C++ 14.0 or greater is required. Get it with \"Microsoft C++ Build Tools\": https://visualstudio.microsoft.com/visual-cpp-build-tools/\n",
      "  [end of output]\n",
      "  \n",
      "  note: This error originates from a subprocess, and is likely not a problem with pip.\n",
      "  ERROR: Failed building wheel for python-crfsuite\n",
      "ERROR: Could not build wheels for levenshtein, regex, python-crfsuite, which is required to install pyproject.toml-based projects\n"
     ]
    }
   ],
   "source": [
    "!pip install dataprep\n"
   ]
  },
  {
   "cell_type": "code",
   "execution_count": 63,
   "id": "7e9424f7",
   "metadata": {},
   "outputs": [
    {
     "ename": "ModuleNotFoundError",
     "evalue": "No module named 'dataprep'",
     "output_type": "error",
     "traceback": [
      "\u001b[1;31m---------------------------------------------------------------------------\u001b[0m",
      "\u001b[1;31mModuleNotFoundError\u001b[0m                       Traceback (most recent call last)",
      "Cell \u001b[1;32mIn[63], line 1\u001b[0m\n\u001b[1;32m----> 1\u001b[0m \u001b[38;5;28;01mfrom\u001b[39;00m \u001b[38;5;21;01mdataprep\u001b[39;00m\u001b[38;5;21;01m.\u001b[39;00m\u001b[38;5;21;01mdatasets\u001b[39;00m \u001b[38;5;28;01mimport\u001b[39;00m load_dataset\n\u001b[0;32m      2\u001b[0m \u001b[38;5;28;01mfrom\u001b[39;00m \u001b[38;5;21;01mdataprep\u001b[39;00m\u001b[38;5;21;01m.\u001b[39;00m\u001b[38;5;21;01meda\u001b[39;00m \u001b[38;5;28;01mimport\u001b[39;00m eda_report\n\u001b[0;32m      4\u001b[0m df \u001b[38;5;241m=\u001b[39m load_dataset(\u001b[38;5;124m'\u001b[39m\u001b[38;5;124mhollywood_movies_dataset.csv\u001b[39m\u001b[38;5;124m'\u001b[39m, encoding\u001b[38;5;241m=\u001b[39m\u001b[38;5;124m'\u001b[39m\u001b[38;5;124miso-8859-1\u001b[39m\u001b[38;5;124m'\u001b[39m)\n",
      "\u001b[1;31mModuleNotFoundError\u001b[0m: No module named 'dataprep'"
     ]
    }
   ],
   "source": [
    "from dataprep.datasets import load_dataset\n",
    "from dataprep.eda import eda_report\n",
    "\n",
    "df = load_dataset('hollywood_movies_dataset.csv', encoding='iso-8859-1')\n",
    "eda_report(df).show_browser()"
   ]
  },
  {
   "cell_type": "code",
   "execution_count": 64,
   "id": "d42eb4bf",
   "metadata": {},
   "outputs": [
    {
     "data": {
      "application/vnd.jupyter.widget-view+json": {
       "model_id": "9ed4dab663174193830912a3f13bd07a",
       "version_major": 2,
       "version_minor": 0
      },
      "text/plain": [
       "                                             |                                             | [  0%]   00:00 ->…"
      ]
     },
     "metadata": {},
     "output_type": "display_data"
    },
    {
     "name": "stdout",
     "output_type": "stream",
     "text": [
      "Report SWEETVIZ_REPORT.html was generated! NOTEBOOK/COLAB USERS: the web browser MAY not pop up, regardless, the report IS saved in your notebook/colab files.\n"
     ]
    }
   ],
   "source": [
    "import sweetviz as sv\n",
    "import pandas as pd\n",
    "\n",
    "# Replace 'your_data.csv' with the path to your dataset file or provide your DataFrame\n",
    "df = pd.read_csv('bollywood_movies_dataset.csv',encoding='iso-8859-1')  # Example: Read a CSV file into a DataFrame\n",
    "\n",
    "# Analyze and generate a report for your DataFrame\n",
    "my_report = sv.analyze(df)\n",
    "\n",
    "# Show the Sweetviz report as an HTML page\n",
    "my_report.show_html()"
   ]
  },
  {
   "cell_type": "code",
   "execution_count": 31,
   "id": "ddb5bf78",
   "metadata": {},
   "outputs": [],
   "source": [
    "import numpy as np # linear algebra\n",
    "import pandas as pd # data manipulation and analysis\n",
    "import matplotlib.pyplot as plt # data visualization\n",
    "import seaborn as sns # data visualization\n",
    "sns.set_style('whitegrid') # set style for visualization\n",
    "import warnings # ignore warnings\n",
    "warnings.filterwarnings('ignore')\n",
    "import ipywidgets as widgets\n",
    "from IPython.display import display\n",
    "from ipywidgets import interact, widgets"
   ]
  },
  {
   "cell_type": "code",
   "execution_count": 32,
   "id": "de941900",
   "metadata": {},
   "outputs": [],
   "source": [
    "df = pd.read_csv('TMDB_Database_EDA.csv',encoding='iso-8859-1')"
   ]
  },
  {
   "cell_type": "code",
   "execution_count": 33,
   "id": "b2c0197f",
   "metadata": {},
   "outputs": [
    {
     "name": "stdout",
     "output_type": "stream",
     "text": [
      "(802, 24)\n"
     ]
    }
   ],
   "source": [
    "df_shape = df.shape\n",
    "print(df_shape)"
   ]
  },
  {
   "cell_type": "code",
   "execution_count": 34,
   "id": "9add1ec9",
   "metadata": {},
   "outputs": [
    {
     "data": {
      "text/plain": [
       "Index(['TMDb ID', 'Title', 'Release Date', 'Overview', 'Genre', 'Runtime',\n",
       "       'Original Language', 'Production Companies', 'Cast', 'Crew', 'Budget',\n",
       "       'Revenue', 'IMDb ID', 'Poster URL', 'Backdrop URL', 'Trailers',\n",
       "       'Keywords', 'Popularity', 'Release Type', 'Certification',\n",
       "       'Similar Movies', 'Box Office Information', 'Awards and Nominations',\n",
       "       'Website URL'],\n",
       "      dtype='object')"
      ]
     },
     "execution_count": 34,
     "metadata": {},
     "output_type": "execute_result"
    }
   ],
   "source": [
    "df.columns"
   ]
  },
  {
   "cell_type": "code",
   "execution_count": 35,
   "id": "d94adf4d",
   "metadata": {
    "scrolled": true
   },
   "outputs": [
    {
     "data": {
      "text/plain": [
       "TMDb ID                     0\n",
       "Title                       0\n",
       "Release Date                2\n",
       "Overview                    2\n",
       "Genre                       5\n",
       "Runtime                     0\n",
       "Original Language           0\n",
       "Production Companies       26\n",
       "Cast                        4\n",
       "Crew                        2\n",
       "Budget                      0\n",
       "Revenue                     0\n",
       "IMDb ID                     7\n",
       "Poster URL                  0\n",
       "Backdrop URL                0\n",
       "Trailers                   58\n",
       "Keywords                   41\n",
       "Popularity                  0\n",
       "Release Type              802\n",
       "Certification             802\n",
       "Similar Movies             40\n",
       "Box Office Information    802\n",
       "Awards and Nominations    802\n",
       "Website URL               372\n",
       "dtype: int64"
      ]
     },
     "execution_count": 35,
     "metadata": {},
     "output_type": "execute_result"
    }
   ],
   "source": [
    "df.isnull().sum()"
   ]
  },
  {
   "cell_type": "code",
   "execution_count": 37,
   "id": "fd496322",
   "metadata": {},
   "outputs": [],
   "source": [
    "df.isnull().sum().to_csv('TMDB_Database_EDA_null_counts.csv',header=['Null_Count'])"
   ]
  },
  {
   "cell_type": "markdown",
   "id": "60d53e36",
   "metadata": {},
   "source": [
    "## Last updated at 27-OCT-2023 at 8:30 PM"
   ]
  },
  {
   "cell_type": "code",
   "execution_count": null,
   "id": "32a6b7d8",
   "metadata": {},
   "outputs": [],
   "source": []
  }
 ],
 "metadata": {
  "kernelspec": {
   "display_name": "Python 3 (ipykernel)",
   "language": "python",
   "name": "python3"
  },
  "language_info": {
   "codemirror_mode": {
    "name": "ipython",
    "version": 3
   },
   "file_extension": ".py",
   "mimetype": "text/x-python",
   "name": "python",
   "nbconvert_exporter": "python",
   "pygments_lexer": "ipython3",
   "version": "3.11.4"
  }
 },
 "nbformat": 4,
 "nbformat_minor": 5
}
